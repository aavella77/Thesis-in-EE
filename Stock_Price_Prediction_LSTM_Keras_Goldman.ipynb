{
  "nbformat": 4,
  "nbformat_minor": 0,
  "metadata": {
    "colab": {
      "name": "Stock_Price_Prediction_LSTM_Keras_Goldman.ipynb",
      "provenance": [],
      "include_colab_link": true
    },
    "kernelspec": {
      "name": "python3",
      "display_name": "Python 3"
    },
    "accelerator": "GPU"
  },
  "cells": [
    {
      "cell_type": "markdown",
      "metadata": {
        "id": "view-in-github",
        "colab_type": "text"
      },
      "source": [
        "<a href=\"https://colab.research.google.com/github/alamau01/Thesis-in-EE/blob/master/Stock_Price_Prediction_LSTM_Keras_Goldman.ipynb\" target=\"_parent\"><img src=\"https://colab.research.google.com/assets/colab-badge.svg\" alt=\"Open In Colab\"/></a>"
      ]
    },
    {
      "cell_type": "code",
      "metadata": {
        "id": "Qw-kwA7pONrP",
        "colab_type": "code",
        "outputId": "c00f6ec3-7ff1-4f01-e3b6-b6d91a89be19",
        "colab": {
          "base_uri": "https://localhost:8080/",
          "height": 447
        }
      },
      "source": [
        "import math\n",
        "import pandas_datareader as web\n",
        "import numpy as np\n",
        "import pandas as pd\n",
        "from sklearn.preprocessing import MinMaxScaler\n",
        "from tensorflow.python.keras.models import Sequential\n",
        "from tensorflow.python.keras.layers import Dense, LSTM, Dropout\n",
        "import matplotlib.pyplot as plt\n",
        "\n",
        "dataset = web.DataReader('GS', data_source = 'yahoo', start = '2000-01-01', end = '2020-03-31')\n",
        "dataset"
      ],
      "execution_count": 0,
      "outputs": [
        {
          "output_type": "execute_result",
          "data": {
            "text/html": [
              "<div>\n",
              "<style scoped>\n",
              "    .dataframe tbody tr th:only-of-type {\n",
              "        vertical-align: middle;\n",
              "    }\n",
              "\n",
              "    .dataframe tbody tr th {\n",
              "        vertical-align: top;\n",
              "    }\n",
              "\n",
              "    .dataframe thead th {\n",
              "        text-align: right;\n",
              "    }\n",
              "</style>\n",
              "<table border=\"1\" class=\"dataframe\">\n",
              "  <thead>\n",
              "    <tr style=\"text-align: right;\">\n",
              "      <th></th>\n",
              "      <th>High</th>\n",
              "      <th>Low</th>\n",
              "      <th>Open</th>\n",
              "      <th>Close</th>\n",
              "      <th>Volume</th>\n",
              "      <th>Adj Close</th>\n",
              "    </tr>\n",
              "    <tr>\n",
              "      <th>Date</th>\n",
              "      <th></th>\n",
              "      <th></th>\n",
              "      <th></th>\n",
              "      <th></th>\n",
              "      <th></th>\n",
              "      <th></th>\n",
              "    </tr>\n",
              "  </thead>\n",
              "  <tbody>\n",
              "    <tr>\n",
              "      <th>2000-01-03</th>\n",
              "      <td>94.375000</td>\n",
              "      <td>87.750000</td>\n",
              "      <td>94.187500</td>\n",
              "      <td>88.312500</td>\n",
              "      <td>1822600.0</td>\n",
              "      <td>70.332947</td>\n",
              "    </tr>\n",
              "    <tr>\n",
              "      <th>2000-01-04</th>\n",
              "      <td>87.500000</td>\n",
              "      <td>82.250000</td>\n",
              "      <td>87.000000</td>\n",
              "      <td>82.750000</td>\n",
              "      <td>1647700.0</td>\n",
              "      <td>65.902901</td>\n",
              "    </tr>\n",
              "    <tr>\n",
              "      <th>2000-01-05</th>\n",
              "      <td>81.875000</td>\n",
              "      <td>78.375000</td>\n",
              "      <td>80.875000</td>\n",
              "      <td>78.875000</td>\n",
              "      <td>1516600.0</td>\n",
              "      <td>62.816811</td>\n",
              "    </tr>\n",
              "    <tr>\n",
              "      <th>2000-01-06</th>\n",
              "      <td>84.500000</td>\n",
              "      <td>78.625000</td>\n",
              "      <td>78.625000</td>\n",
              "      <td>82.250000</td>\n",
              "      <td>1845100.0</td>\n",
              "      <td>65.504669</td>\n",
              "    </tr>\n",
              "    <tr>\n",
              "      <th>2000-01-07</th>\n",
              "      <td>83.187500</td>\n",
              "      <td>79.875000</td>\n",
              "      <td>83.062500</td>\n",
              "      <td>82.562500</td>\n",
              "      <td>1127400.0</td>\n",
              "      <td>65.753601</td>\n",
              "    </tr>\n",
              "    <tr>\n",
              "      <th>...</th>\n",
              "      <td>...</td>\n",
              "      <td>...</td>\n",
              "      <td>...</td>\n",
              "      <td>...</td>\n",
              "      <td>...</td>\n",
              "      <td>...</td>\n",
              "    </tr>\n",
              "    <tr>\n",
              "      <th>2020-03-25</th>\n",
              "      <td>162.210007</td>\n",
              "      <td>145.320007</td>\n",
              "      <td>154.600006</td>\n",
              "      <td>155.130005</td>\n",
              "      <td>8587800.0</td>\n",
              "      <td>155.130005</td>\n",
              "    </tr>\n",
              "    <tr>\n",
              "      <th>2020-03-26</th>\n",
              "      <td>167.660004</td>\n",
              "      <td>154.309998</td>\n",
              "      <td>156.369995</td>\n",
              "      <td>165.789993</td>\n",
              "      <td>6762200.0</td>\n",
              "      <td>165.789993</td>\n",
              "    </tr>\n",
              "    <tr>\n",
              "      <th>2020-03-27</th>\n",
              "      <td>163.729996</td>\n",
              "      <td>157.000000</td>\n",
              "      <td>159.080002</td>\n",
              "      <td>158.339996</td>\n",
              "      <td>4186700.0</td>\n",
              "      <td>158.339996</td>\n",
              "    </tr>\n",
              "    <tr>\n",
              "      <th>2020-03-30</th>\n",
              "      <td>160.429993</td>\n",
              "      <td>153.179993</td>\n",
              "      <td>158.520004</td>\n",
              "      <td>159.619995</td>\n",
              "      <td>4152800.0</td>\n",
              "      <td>159.619995</td>\n",
              "    </tr>\n",
              "    <tr>\n",
              "      <th>2020-03-31</th>\n",
              "      <td>161.100006</td>\n",
              "      <td>153.720001</td>\n",
              "      <td>158.130005</td>\n",
              "      <td>154.589996</td>\n",
              "      <td>3588200.0</td>\n",
              "      <td>154.589996</td>\n",
              "    </tr>\n",
              "  </tbody>\n",
              "</table>\n",
              "<p>5093 rows × 6 columns</p>\n",
              "</div>"
            ],
            "text/plain": [
              "                  High         Low  ...     Volume   Adj Close\n",
              "Date                                ...                       \n",
              "2000-01-03   94.375000   87.750000  ...  1822600.0   70.332947\n",
              "2000-01-04   87.500000   82.250000  ...  1647700.0   65.902901\n",
              "2000-01-05   81.875000   78.375000  ...  1516600.0   62.816811\n",
              "2000-01-06   84.500000   78.625000  ...  1845100.0   65.504669\n",
              "2000-01-07   83.187500   79.875000  ...  1127400.0   65.753601\n",
              "...                ...         ...  ...        ...         ...\n",
              "2020-03-25  162.210007  145.320007  ...  8587800.0  155.130005\n",
              "2020-03-26  167.660004  154.309998  ...  6762200.0  165.789993\n",
              "2020-03-27  163.729996  157.000000  ...  4186700.0  158.339996\n",
              "2020-03-30  160.429993  153.179993  ...  4152800.0  159.619995\n",
              "2020-03-31  161.100006  153.720001  ...  3588200.0  154.589996\n",
              "\n",
              "[5093 rows x 6 columns]"
            ]
          },
          "metadata": {
            "tags": []
          },
          "execution_count": 80
        }
      ]
    },
    {
      "cell_type": "code",
      "metadata": {
        "id": "JxxilDN4Pqlz",
        "colab_type": "code",
        "outputId": "10fda3d0-fe29-4d75-9d29-7da615da3437",
        "colab": {
          "base_uri": "https://localhost:8080/",
          "height": 35
        }
      },
      "source": [
        "dataset.shape"
      ],
      "execution_count": 0,
      "outputs": [
        {
          "output_type": "execute_result",
          "data": {
            "text/plain": [
              "(5093, 6)"
            ]
          },
          "metadata": {
            "tags": []
          },
          "execution_count": 81
        }
      ]
    },
    {
      "cell_type": "code",
      "metadata": {
        "id": "Ce-g_BRjP1UT",
        "colab_type": "code",
        "outputId": "448bc34f-b488-454a-ea18-0d5423922958",
        "colab": {
          "base_uri": "https://localhost:8080/",
          "height": 518
        }
      },
      "source": [
        "plt.figure(figsize = (12, 8))\n",
        "plt.plot(dataset['Open'])\n",
        "plt.plot(dataset['Close'])\n",
        "plt.plot(dataset['High'])\n",
        "plt.plot(dataset['Low'])\n",
        "plt.xlabel('Date', fontsize = 15)\n",
        "plt.ylabel('Closing Price in USD', fontsize = 15)\n",
        "plt.title('Close Price History')\n",
        "plt.legend(['Open', 'Close', 'High', 'Low'], loc = 'upper left')\n",
        "plt.show()"
      ],
      "execution_count": 0,
      "outputs": [
        {
          "output_type": "display_data",
          "data": {
            "image/png": "[encoded data removed]",
            "text/plain": [
              "<Figure size 864x576 with 1 Axes>"
            ]
          },
          "metadata": {
            "tags": []
          }
        }
      ]
    },
    {
      "cell_type": "code",
      "metadata": {
        "id": "BYfbU6F7P9Su",
        "colab_type": "code",
        "outputId": "96dcb628-2d9c-4709-c063-9026a6b7ecc4",
        "colab": {
          "base_uri": "https://localhost:8080/",
          "height": 35
        }
      },
      "source": [
        "close_price = dataset.filter(['Close']).values\n",
        "data_train_len = math.ceil(len(close_price) * .8)\n",
        "\n",
        "sc = MinMaxScaler(feature_range = (0, 1))\n",
        "sc_data = sc.fit_transform(close_price)\n",
        "\n",
        "data_train = sc_data[0 : data_train_len, : ]\n",
        "xtrain = []\n",
        "ytrain = []\n",
        "for i in range(60, len(data_train)):\n",
        "    xtrain.append(data_train[i - 60 : i, 0])\n",
        "    ytrain.append(data_train[i, 0])\n",
        "\n",
        "xtrain, ytrain = np.array(xtrain), np.array(ytrain)\n",
        "xtrain = np.reshape(xtrain, (xtrain.shape[0], xtrain.shape[1], 1))\n",
        "xtrain.shape"
      ],
      "execution_count": 0,
      "outputs": [
        {
          "output_type": "execute_result",
          "data": {
            "text/plain": [
              "(4015, 60, 1)"
            ]
          },
          "metadata": {
            "tags": []
          },
          "execution_count": 83
        }
      ]
    },
    {
      "cell_type": "code",
      "metadata": {
        "id": "am8Z6xwDP_rf",
        "colab_type": "code",
        "outputId": "436b74ac-d3d3-4519-aa6b-e38f4e680c0b",
        "colab": {
          "base_uri": "https://localhost:8080/",
          "height": 1000
        }
      },
      "source": [
        "model = Sequential()\n",
        "model.add(LSTM(units = 512, return_sequences = True, input_shape = (xtrain.shape[1], 1)))\n",
        "model.add(Dropout(0.2))\n",
        "\n",
        "model.add(LSTM(units = 512, return_sequences = True))\n",
        "model.add(Dropout(0.2))\n",
        "\n",
        "model.add(LSTM(units = 512, return_sequences = True))\n",
        "model.add(Dropout(0.2))\n",
        "\n",
        "model.add(LSTM(units = 512, return_sequences = False))\n",
        "model.add(Dropout(0.2))\n",
        "\n",
        "model.add(Dense(units = 25))\n",
        "model.add(Dense(units = 1))\n",
        "\n",
        "model.compile(optimizer = 'adam', loss = 'mean_squared_error')\n",
        "model.fit(xtrain, ytrain, batch_size = 128, epochs = 150)"
      ],
      "execution_count": 0,
      "outputs": [
        {
          "output_type": "stream",
          "text": [
            "Epoch 1/150\n",
            "32/32 [==============================] - 2s 77ms/step - loss: 0.0387\n",
            "Epoch 2/150\n",
            "32/32 [==============================] - 2s 77ms/step - loss: 0.0016\n",
            "Epoch 3/150\n",
            "32/32 [==============================] - 2s 77ms/step - loss: 0.0011\n",
            "Epoch 4/150\n",
            "32/32 [==============================] - 2s 76ms/step - loss: 0.0011\n",
            "Epoch 5/150\n",
            "32/32 [==============================] - 2s 77ms/step - loss: 9.6001e-04\n",
            "Epoch 6/150\n",
            "32/32 [==============================] - 2s 77ms/step - loss: 9.3079e-04\n",
            "Epoch 7/150\n",
            "32/32 [==============================] - 2s 77ms/step - loss: 9.6728e-04\n",
            "Epoch 8/150\n",
            "32/32 [==============================] - 2s 77ms/step - loss: 8.7894e-04\n",
            "Epoch 9/150\n",
            "32/32 [==============================] - 2s 77ms/step - loss: 8.4045e-04\n",
            "Epoch 10/150\n",
            "32/32 [==============================] - 2s 77ms/step - loss: 8.1950e-04\n",
            "Epoch 11/150\n",
            "32/32 [==============================] - 2s 76ms/step - loss: 8.5985e-04\n",
            "Epoch 12/150\n",
            "32/32 [==============================] - 2s 76ms/step - loss: 8.3753e-04\n",
            "Epoch 13/150\n",
            "32/32 [==============================] - 2s 76ms/step - loss: 7.7408e-04\n",
            "Epoch 14/150\n",
            "32/32 [==============================] - 2s 77ms/step - loss: 9.3438e-04\n",
            "Epoch 15/150\n",
            "32/32 [==============================] - 2s 76ms/step - loss: 7.0928e-04\n",
            "Epoch 16/150\n",
            "32/32 [==============================] - 2s 76ms/step - loss: 6.9986e-04\n",
            "Epoch 17/150\n",
            "32/32 [==============================] - 2s 76ms/step - loss: 8.4647e-04\n",
            "Epoch 18/150\n",
            "32/32 [==============================] - 2s 76ms/step - loss: 7.1787e-04\n",
            "Epoch 19/150\n",
            "32/32 [==============================] - 2s 76ms/step - loss: 7.2646e-04\n",
            "Epoch 20/150\n",
            "32/32 [==============================] - 2s 76ms/step - loss: 6.7043e-04\n",
            "Epoch 21/150\n",
            "32/32 [==============================] - 2s 76ms/step - loss: 8.4108e-04\n",
            "Epoch 22/150\n",
            "32/32 [==============================] - 2s 76ms/step - loss: 7.6468e-04\n",
            "Epoch 23/150\n",
            "32/32 [==============================] - 2s 76ms/step - loss: 6.1849e-04\n",
            "Epoch 24/150\n",
            "32/32 [==============================] - 2s 76ms/step - loss: 6.4953e-04\n",
            "Epoch 25/150\n",
            "32/32 [==============================] - 2s 76ms/step - loss: 6.1209e-04\n",
            "Epoch 26/150\n",
            "32/32 [==============================] - 2s 76ms/step - loss: 6.2680e-04\n",
            "Epoch 27/150\n",
            "32/32 [==============================] - 2s 77ms/step - loss: 6.8933e-04\n",
            "Epoch 28/150\n",
            "32/32 [==============================] - 2s 76ms/step - loss: 6.0593e-04\n",
            "Epoch 29/150\n",
            "32/32 [==============================] - 2s 77ms/step - loss: 6.1477e-04\n",
            "Epoch 30/150\n",
            "32/32 [==============================] - 2s 76ms/step - loss: 5.7769e-04\n",
            "Epoch 31/150\n",
            "32/32 [==============================] - 2s 77ms/step - loss: 5.4131e-04\n",
            "Epoch 32/150\n",
            "32/32 [==============================] - 2s 76ms/step - loss: 5.2904e-04\n",
            "Epoch 33/150\n",
            "32/32 [==============================] - 2s 76ms/step - loss: 5.3647e-04\n",
            "Epoch 34/150\n",
            "32/32 [==============================] - 2s 76ms/step - loss: 5.4107e-04\n",
            "Epoch 35/150\n",
            "32/32 [==============================] - 2s 76ms/step - loss: 5.3992e-04\n",
            "Epoch 36/150\n",
            "32/32 [==============================] - 2s 76ms/step - loss: 7.6188e-04\n",
            "Epoch 37/150\n",
            "32/32 [==============================] - 2s 77ms/step - loss: 5.4136e-04\n",
            "Epoch 38/150\n",
            "32/32 [==============================] - 2s 77ms/step - loss: 5.1666e-04\n",
            "Epoch 39/150\n",
            "32/32 [==============================] - 2s 77ms/step - loss: 5.7155e-04\n",
            "Epoch 40/150\n",
            "32/32 [==============================] - 2s 76ms/step - loss: 4.8651e-04\n",
            "Epoch 41/150\n",
            "32/32 [==============================] - 2s 77ms/step - loss: 4.8192e-04\n",
            "Epoch 42/150\n",
            "32/32 [==============================] - 2s 77ms/step - loss: 4.5528e-04\n",
            "Epoch 43/150\n",
            "32/32 [==============================] - 2s 76ms/step - loss: 4.8754e-04\n",
            "Epoch 44/150\n",
            "32/32 [==============================] - 2s 76ms/step - loss: 4.7964e-04\n",
            "Epoch 45/150\n",
            "32/32 [==============================] - 2s 76ms/step - loss: 5.2681e-04\n",
            "Epoch 46/150\n",
            "32/32 [==============================] - 2s 76ms/step - loss: 4.6117e-04\n",
            "Epoch 47/150\n",
            "32/32 [==============================] - 2s 76ms/step - loss: 4.4254e-04\n",
            "Epoch 48/150\n",
            "32/32 [==============================] - 2s 76ms/step - loss: 4.4267e-04\n",
            "Epoch 49/150\n",
            "32/32 [==============================] - 2s 76ms/step - loss: 4.7947e-04\n",
            "Epoch 50/150\n",
            "32/32 [==============================] - 2s 76ms/step - loss: 4.3704e-04\n",
            "Epoch 51/150\n",
            "32/32 [==============================] - 2s 77ms/step - loss: 4.2974e-04\n",
            "Epoch 52/150\n",
            "32/32 [==============================] - 2s 76ms/step - loss: 4.1533e-04\n",
            "Epoch 53/150\n",
            "32/32 [==============================] - 2s 77ms/step - loss: 4.1835e-04\n",
            "Epoch 54/150\n",
            "32/32 [==============================] - 2s 77ms/step - loss: 4.0925e-04\n",
            "Epoch 55/150\n",
            "32/32 [==============================] - 2s 76ms/step - loss: 4.0820e-04\n",
            "Epoch 56/150\n",
            "32/32 [==============================] - 2s 76ms/step - loss: 4.1813e-04\n",
            "Epoch 57/150\n",
            "32/32 [==============================] - 2s 76ms/step - loss: 3.7442e-04\n",
            "Epoch 58/150\n",
            "32/32 [==============================] - 2s 76ms/step - loss: 3.8868e-04\n",
            "Epoch 59/150\n",
            "32/32 [==============================] - 2s 76ms/step - loss: 3.7989e-04\n",
            "Epoch 60/150\n",
            "32/32 [==============================] - 2s 76ms/step - loss: 3.6679e-04\n",
            "Epoch 61/150\n",
            "32/32 [==============================] - 2s 76ms/step - loss: 4.2685e-04\n",
            "Epoch 62/150\n",
            "32/32 [==============================] - 2s 76ms/step - loss: 4.0295e-04\n",
            "Epoch 63/150\n",
            "32/32 [==============================] - 2s 76ms/step - loss: 3.5777e-04\n",
            "Epoch 64/150\n",
            "32/32 [==============================] - 2s 75ms/step - loss: 3.6715e-04\n",
            "Epoch 65/150\n",
            "32/32 [==============================] - 2s 75ms/step - loss: 4.1671e-04\n",
            "Epoch 66/150\n",
            "32/32 [==============================] - 2s 75ms/step - loss: 3.6529e-04\n",
            "Epoch 67/150\n",
            "32/32 [==============================] - 2s 76ms/step - loss: 3.7302e-04\n",
            "Epoch 68/150\n",
            "32/32 [==============================] - 2s 77ms/step - loss: 3.8602e-04\n",
            "Epoch 69/150\n",
            "32/32 [==============================] - 2s 76ms/step - loss: 3.7739e-04\n",
            "Epoch 70/150\n",
            "32/32 [==============================] - 2s 76ms/step - loss: 3.4179e-04\n",
            "Epoch 71/150\n",
            "32/32 [==============================] - 2s 76ms/step - loss: 3.4555e-04\n",
            "Epoch 72/150\n",
            "32/32 [==============================] - 2s 76ms/step - loss: 3.7285e-04\n",
            "Epoch 73/150\n",
            "32/32 [==============================] - 2s 76ms/step - loss: 3.4168e-04\n",
            "Epoch 74/150\n",
            "32/32 [==============================] - 2s 76ms/step - loss: 4.0324e-04\n",
            "Epoch 75/150\n",
            "32/32 [==============================] - 2s 75ms/step - loss: 3.8656e-04\n",
            "Epoch 76/150\n",
            "32/32 [==============================] - 2s 76ms/step - loss: 3.3638e-04\n",
            "Epoch 77/150\n",
            "32/32 [==============================] - 2s 76ms/step - loss: 3.4613e-04\n",
            "Epoch 78/150\n",
            "32/32 [==============================] - 2s 76ms/step - loss: 3.3825e-04\n",
            "Epoch 79/150\n",
            "32/32 [==============================] - 2s 76ms/step - loss: 3.2114e-04\n",
            "Epoch 80/150\n",
            "32/32 [==============================] - 2s 76ms/step - loss: 3.3244e-04\n",
            "Epoch 81/150\n",
            "32/32 [==============================] - 2s 76ms/step - loss: 3.1967e-04\n",
            "Epoch 82/150\n",
            "32/32 [==============================] - 2s 76ms/step - loss: 3.2114e-04\n",
            "Epoch 83/150\n",
            "32/32 [==============================] - 2s 76ms/step - loss: 3.0058e-04\n",
            "Epoch 84/150\n",
            "32/32 [==============================] - 2s 77ms/step - loss: 3.5338e-04\n",
            "Epoch 85/150\n",
            "32/32 [==============================] - 2s 77ms/step - loss: 3.6366e-04\n",
            "Epoch 86/150\n",
            "32/32 [==============================] - 2s 77ms/step - loss: 3.1794e-04\n",
            "Epoch 87/150\n",
            "32/32 [==============================] - 2s 77ms/step - loss: 3.0549e-04\n",
            "Epoch 88/150\n",
            "32/32 [==============================] - 2s 77ms/step - loss: 3.1838e-04\n",
            "Epoch 89/150\n",
            "32/32 [==============================] - 2s 77ms/step - loss: 3.6656e-04\n",
            "Epoch 90/150\n",
            "32/32 [==============================] - 2s 77ms/step - loss: 3.1984e-04\n",
            "Epoch 91/150\n",
            "32/32 [==============================] - 2s 77ms/step - loss: 3.1566e-04\n",
            "Epoch 92/150\n",
            "32/32 [==============================] - 2s 77ms/step - loss: 3.2575e-04\n",
            "Epoch 93/150\n",
            "32/32 [==============================] - 2s 77ms/step - loss: 3.2108e-04\n",
            "Epoch 94/150\n",
            "32/32 [==============================] - 2s 77ms/step - loss: 3.5307e-04\n",
            "Epoch 95/150\n",
            "32/32 [==============================] - 2s 77ms/step - loss: 3.2436e-04\n",
            "Epoch 96/150\n",
            "32/32 [==============================] - 2s 76ms/step - loss: 3.5260e-04\n",
            "Epoch 97/150\n",
            "32/32 [==============================] - 2s 77ms/step - loss: 3.4599e-04\n",
            "Epoch 98/150\n",
            "32/32 [==============================] - 2s 77ms/step - loss: 3.0105e-04\n",
            "Epoch 99/150\n",
            "32/32 [==============================] - 2s 77ms/step - loss: 3.3282e-04\n",
            "Epoch 100/150\n",
            "32/32 [==============================] - 2s 77ms/step - loss: 3.1596e-04\n",
            "Epoch 101/150\n",
            "32/32 [==============================] - 2s 77ms/step - loss: 3.0836e-04\n",
            "Epoch 102/150\n",
            "32/32 [==============================] - 2s 76ms/step - loss: 3.2061e-04\n",
            "Epoch 103/150\n",
            "32/32 [==============================] - 2s 77ms/step - loss: 2.9898e-04\n",
            "Epoch 104/150\n",
            "32/32 [==============================] - 2s 77ms/step - loss: 3.0948e-04\n",
            "Epoch 105/150\n",
            "32/32 [==============================] - 2s 77ms/step - loss: 3.2072e-04\n",
            "Epoch 106/150\n",
            "32/32 [==============================] - 2s 76ms/step - loss: 3.1876e-04\n",
            "Epoch 107/150\n",
            "32/32 [==============================] - 2s 77ms/step - loss: 3.0913e-04\n",
            "Epoch 108/150\n",
            "32/32 [==============================] - 2s 77ms/step - loss: 3.2052e-04\n",
            "Epoch 109/150\n",
            "32/32 [==============================] - 2s 76ms/step - loss: 2.9126e-04\n",
            "Epoch 110/150\n",
            "32/32 [==============================] - 2s 77ms/step - loss: 2.8881e-04\n",
            "Epoch 111/150\n",
            "32/32 [==============================] - 2s 77ms/step - loss: 2.9725e-04\n",
            "Epoch 112/150\n",
            "32/32 [==============================] - 2s 77ms/step - loss: 3.1384e-04\n",
            "Epoch 113/150\n",
            "32/32 [==============================] - 2s 77ms/step - loss: 3.0324e-04\n",
            "Epoch 114/150\n",
            "32/32 [==============================] - 2s 78ms/step - loss: 2.9856e-04\n",
            "Epoch 115/150\n",
            "32/32 [==============================] - 2s 76ms/step - loss: 3.0342e-04\n",
            "Epoch 116/150\n",
            "32/32 [==============================] - 2s 77ms/step - loss: 3.1335e-04\n",
            "Epoch 117/150\n",
            "32/32 [==============================] - 2s 77ms/step - loss: 3.1754e-04\n",
            "Epoch 118/150\n",
            "32/32 [==============================] - 2s 77ms/step - loss: 3.1209e-04\n",
            "Epoch 119/150\n",
            "32/32 [==============================] - 2s 76ms/step - loss: 2.8202e-04\n",
            "Epoch 120/150\n",
            "32/32 [==============================] - 2s 77ms/step - loss: 3.1015e-04\n",
            "Epoch 121/150\n",
            "32/32 [==============================] - 2s 77ms/step - loss: 3.0268e-04\n",
            "Epoch 122/150\n",
            "32/32 [==============================] - 2s 77ms/step - loss: 3.1910e-04\n",
            "Epoch 123/150\n",
            "32/32 [==============================] - 2s 76ms/step - loss: 2.9125e-04\n",
            "Epoch 124/150\n",
            "32/32 [==============================] - 2s 76ms/step - loss: 3.5513e-04\n",
            "Epoch 125/150\n",
            "32/32 [==============================] - 2s 76ms/step - loss: 2.9920e-04\n",
            "Epoch 126/150\n",
            "32/32 [==============================] - 2s 76ms/step - loss: 3.7365e-04\n",
            "Epoch 127/150\n",
            "32/32 [==============================] - 2s 76ms/step - loss: 2.9298e-04\n",
            "Epoch 128/150\n",
            "32/32 [==============================] - 2s 76ms/step - loss: 3.0231e-04\n",
            "Epoch 129/150\n",
            "32/32 [==============================] - 2s 76ms/step - loss: 3.0182e-04\n",
            "Epoch 130/150\n",
            "32/32 [==============================] - 2s 76ms/step - loss: 3.4276e-04\n",
            "Epoch 131/150\n",
            "32/32 [==============================] - 2s 76ms/step - loss: 3.1873e-04\n",
            "Epoch 132/150\n",
            "32/32 [==============================] - 2s 77ms/step - loss: 3.1003e-04\n",
            "Epoch 133/150\n",
            "32/32 [==============================] - 2s 76ms/step - loss: 2.9965e-04\n",
            "Epoch 134/150\n",
            "32/32 [==============================] - 2s 77ms/step - loss: 3.7343e-04\n",
            "Epoch 135/150\n",
            "32/32 [==============================] - 2s 77ms/step - loss: 3.4847e-04\n",
            "Epoch 136/150\n",
            "32/32 [==============================] - 2s 77ms/step - loss: 3.1967e-04\n",
            "Epoch 137/150\n",
            "32/32 [==============================] - 2s 77ms/step - loss: 3.0622e-04\n",
            "Epoch 138/150\n",
            "32/32 [==============================] - 2s 77ms/step - loss: 2.8756e-04\n",
            "Epoch 139/150\n",
            "32/32 [==============================] - 2s 77ms/step - loss: 3.0001e-04\n",
            "Epoch 140/150\n",
            "32/32 [==============================] - 2s 77ms/step - loss: 3.5728e-04\n",
            "Epoch 141/150\n",
            "32/32 [==============================] - 2s 76ms/step - loss: 2.7375e-04\n",
            "Epoch 142/150\n",
            "32/32 [==============================] - 2s 76ms/step - loss: 3.1007e-04\n",
            "Epoch 143/150\n",
            "32/32 [==============================] - 2s 76ms/step - loss: 3.0718e-04\n",
            "Epoch 144/150\n",
            "32/32 [==============================] - 2s 76ms/step - loss: 3.1837e-04\n",
            "Epoch 145/150\n",
            "32/32 [==============================] - 2s 76ms/step - loss: 2.8782e-04\n",
            "Epoch 146/150\n",
            "32/32 [==============================] - 2s 76ms/step - loss: 3.0931e-04\n",
            "Epoch 147/150\n",
            "32/32 [==============================] - 2s 76ms/step - loss: 2.7825e-04\n",
            "Epoch 148/150\n",
            "32/32 [==============================] - 2s 76ms/step - loss: 3.6531e-04\n",
            "Epoch 149/150\n",
            "32/32 [==============================] - 2s 76ms/step - loss: 3.2066e-04\n",
            "Epoch 150/150\n",
            "32/32 [==============================] - 2s 76ms/step - loss: 3.5216e-04\n"
          ],
          "name": "stdout"
        },
        {
          "output_type": "execute_result",
          "data": {
            "text/plain": [
              "<tensorflow.python.keras.callbacks.History at 0x7fd9235b30f0>"
            ]
          },
          "metadata": {
            "tags": []
          },
          "execution_count": 87
        }
      ]
    },
    {
      "cell_type": "code",
      "metadata": {
        "id": "cqGM600KRv6K",
        "colab_type": "code",
        "colab": {}
      },
      "source": [
        "data_test = sc_data[data_train_len - 60 : , :]\n",
        "xtest = []\n",
        "ytest = close_price[data_train_len :, :]\n",
        "for i in range(60, len(data_test)):\n",
        "    xtest.append(data_test[i - 60 : i, 0])\n",
        "\n",
        "xtest = np.array(xtest)\n",
        "xtest = np.reshape(xtest, (xtest.shape[0], xtest.shape[1], 1))"
      ],
      "execution_count": 0,
      "outputs": []
    },
    {
      "cell_type": "code",
      "metadata": {
        "id": "WIAWyjNER5I8",
        "colab_type": "code",
        "outputId": "007b6bf7-82ad-46b7-a273-4ca319f2dc4b",
        "colab": {
          "base_uri": "https://localhost:8080/",
          "height": 35
        }
      },
      "source": [
        "close_price_pred = model.predict(xtest)\n",
        "close_price_pred = sc.inverse_transform(close_price_pred)\n",
        "rmse_score = np.sqrt(np.mean(((close_price_pred - ytest) ** 2)))\n",
        "rmse_score"
      ],
      "execution_count": 0,
      "outputs": [
        {
          "output_type": "execute_result",
          "data": {
            "text/plain": [
              "3.746717637514788"
            ]
          },
          "metadata": {
            "tags": []
          },
          "execution_count": 89
        }
      ]
    },
    {
      "cell_type": "code",
      "metadata": {
        "id": "OrPSYf_iR9rK",
        "colab_type": "code",
        "outputId": "47e7629e-22f4-42f8-db09-54fd22b41dfd",
        "colab": {
          "base_uri": "https://localhost:8080/",
          "height": 518
        }
      },
      "source": [
        "train = dataset.filter(['Close'])[: data_train_len]\n",
        "valid = dataset.filter(['Close'])[data_train_len :]\n",
        "valid['Predictions'] = close_price_pred\n",
        "\n",
        "plt.figure(figsize = (12, 8))\n",
        "plt.plot(train['Close'])\n",
        "plt.plot(valid[['Close', 'Predictions']])\n",
        "plt.xlabel('Date', fontsize = 15)\n",
        "plt.ylabel('Closing Price in USD')\n",
        "plt.legend(['Train', 'Val', 'Predictions'], loc = 'lower right')\n",
        "plt.title('Model')\n",
        "plt.show()"
      ],
      "execution_count": 0,
      "outputs": [
        {
          "output_type": "display_data",
          "data": {
            "image/png": "[encoded data removed]",
            "text/plain": [
              "<Figure size 864x576 with 1 Axes>"
            ]
          },
          "metadata": {
            "tags": []
          }
        }
      ]
    },
    {
      "cell_type": "code",
      "metadata": {
        "id": "WIhIj2QjSIl7",
        "colab_type": "code",
        "outputId": "dc2ed23b-925f-4a5c-a6cf-d10c56d9b630",
        "colab": {
          "base_uri": "https://localhost:8080/",
          "height": 447
        }
      },
      "source": [
        "valid"
      ],
      "execution_count": 0,
      "outputs": [
        {
          "output_type": "execute_result",
          "data": {
            "text/html": [
              "<div>\n",
              "<style scoped>\n",
              "    .dataframe tbody tr th:only-of-type {\n",
              "        vertical-align: middle;\n",
              "    }\n",
              "\n",
              "    .dataframe tbody tr th {\n",
              "        vertical-align: top;\n",
              "    }\n",
              "\n",
              "    .dataframe thead th {\n",
              "        text-align: right;\n",
              "    }\n",
              "</style>\n",
              "<table border=\"1\" class=\"dataframe\">\n",
              "  <thead>\n",
              "    <tr style=\"text-align: right;\">\n",
              "      <th></th>\n",
              "      <th>Close</th>\n",
              "      <th>Predictions</th>\n",
              "    </tr>\n",
              "    <tr>\n",
              "      <th>Date</th>\n",
              "      <th></th>\n",
              "      <th></th>\n",
              "    </tr>\n",
              "  </thead>\n",
              "  <tbody>\n",
              "    <tr>\n",
              "      <th>2016-03-16</th>\n",
              "      <td>150.539993</td>\n",
              "      <td>154.197479</td>\n",
              "    </tr>\n",
              "    <tr>\n",
              "      <th>2016-03-17</th>\n",
              "      <td>152.910004</td>\n",
              "      <td>152.667786</td>\n",
              "    </tr>\n",
              "    <tr>\n",
              "      <th>2016-03-18</th>\n",
              "      <td>157.600006</td>\n",
              "      <td>154.213913</td>\n",
              "    </tr>\n",
              "    <tr>\n",
              "      <th>2016-03-21</th>\n",
              "      <td>156.289993</td>\n",
              "      <td>158.235840</td>\n",
              "    </tr>\n",
              "    <tr>\n",
              "      <th>2016-03-22</th>\n",
              "      <td>154.199997</td>\n",
              "      <td>157.987610</td>\n",
              "    </tr>\n",
              "    <tr>\n",
              "      <th>...</th>\n",
              "      <td>...</td>\n",
              "      <td>...</td>\n",
              "    </tr>\n",
              "    <tr>\n",
              "      <th>2020-03-25</th>\n",
              "      <td>155.130005</td>\n",
              "      <td>151.135147</td>\n",
              "    </tr>\n",
              "    <tr>\n",
              "      <th>2020-03-26</th>\n",
              "      <td>165.789993</td>\n",
              "      <td>154.827988</td>\n",
              "    </tr>\n",
              "    <tr>\n",
              "      <th>2020-03-27</th>\n",
              "      <td>158.339996</td>\n",
              "      <td>164.005096</td>\n",
              "    </tr>\n",
              "    <tr>\n",
              "      <th>2020-03-30</th>\n",
              "      <td>159.619995</td>\n",
              "      <td>159.246826</td>\n",
              "    </tr>\n",
              "    <tr>\n",
              "      <th>2020-03-31</th>\n",
              "      <td>154.589996</td>\n",
              "      <td>159.370071</td>\n",
              "    </tr>\n",
              "  </tbody>\n",
              "</table>\n",
              "<p>1018 rows × 2 columns</p>\n",
              "</div>"
            ],
            "text/plain": [
              "                 Close  Predictions\n",
              "Date                               \n",
              "2016-03-16  150.539993   154.197479\n",
              "2016-03-17  152.910004   152.667786\n",
              "2016-03-18  157.600006   154.213913\n",
              "2016-03-21  156.289993   158.235840\n",
              "2016-03-22  154.199997   157.987610\n",
              "...                ...          ...\n",
              "2020-03-25  155.130005   151.135147\n",
              "2020-03-26  165.789993   154.827988\n",
              "2020-03-27  158.339996   164.005096\n",
              "2020-03-30  159.619995   159.246826\n",
              "2020-03-31  154.589996   159.370071\n",
              "\n",
              "[1018 rows x 2 columns]"
            ]
          },
          "metadata": {
            "tags": []
          },
          "execution_count": 91
        }
      ]
    },
    {
      "cell_type": "code",
      "metadata": {
        "id": "KYiIe9DWSe0i",
        "colab_type": "code",
        "outputId": "b4539f89-a870-4fb8-bb8d-3fbd8f7c7476",
        "colab": {
          "base_uri": "https://localhost:8080/",
          "height": 35
        }
      },
      "source": [
        "gs_stock_price = web.DataReader('AAPL', data_source = 'yahoo', start = '2012-01-01', end = '2019-12-17')\n",
        "new_dataset = gs_stock_price.filter(['Close'])\n",
        "last_60_days = new_dataset[-60 :].values\n",
        "last_60_days_sc = sc.transform(last_60_days)\n",
        "xtest1 = []\n",
        "xtest1.append(last_60_days_sc)\n",
        "xtest1 = np.array(xtest1)\n",
        "xtest1 = np.reshape(xtest1, (xtest1.shape[0], xtest1.shape[1], 1))\n",
        "pred_price = model.predict(xtest1)\n",
        "pred_price = sc.inverse_transform(pred_price)\n",
        "print(pred_price)"
      ],
      "execution_count": 0,
      "outputs": [
        {
          "output_type": "stream",
          "text": [
            "[[279.43756]]\n"
          ],
          "name": "stdout"
        }
      ]
    },
    {
      "cell_type": "code",
      "metadata": {
        "id": "PBN42wcYSxcW",
        "colab_type": "code",
        "outputId": "42a46391-88d8-49d6-dfc0-ec96bc56e395",
        "colab": {
          "base_uri": "https://localhost:8080/",
          "height": 70
        }
      },
      "source": [
        "apple_stock_2 = web.DataReader('AAPL', data_source = 'yahoo', start = '2019-12-26', end = '2019-12-26')\n",
        "print(apple_stock_2['Close'])"
      ],
      "execution_count": 0,
      "outputs": [
        {
          "output_type": "stream",
          "text": [
            "Date\n",
            "2019-12-26    289.910004\n",
            "Name: Close, dtype: float64\n"
          ],
          "name": "stdout"
        }
      ]
    }
  ]
}