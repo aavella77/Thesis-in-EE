{
  "nbformat": 4,
  "nbformat_minor": 0,
  "metadata": {
    "colab": {
      "name": "Stock_Price_Prediction_LSTM-Keras_APPLE.ipynb",
      "provenance": [],
      "authorship_tag": "ABX9TyPiUdHVh7jGj8hOqtVpimaW",
      "include_colab_link": true
    },
    "kernelspec": {
      "name": "python3",
      "display_name": "Python 3"
    },
    "accelerator": "GPU"
  },
  "cells": [
    {
      "cell_type": "markdown",
      "metadata": {
        "id": "view-in-github",
        "colab_type": "text"
      },
      "source": [
        "<a href=\"https://colab.research.google.com/github/alamau01/Thesis-in-EE/blob/master/Stock_Price_Prediction_LSTM_Keras_APPLE.ipynb\" target=\"_parent\"><img src=\"https://colab.research.google.com/assets/colab-badge.svg\" alt=\"Open In Colab\"/></a>"
      ]
    },
    {
      "cell_type": "code",
      "metadata": {
        "id": "yY2wA8E502nJ",
        "colab_type": "code",
        "outputId": "855540e8-99c1-433a-fcba-a3fcb5e6687c",
        "colab": {
          "base_uri": "https://localhost:8080/",
          "height": 447
        }
      },
      "source": [
        "import math\n",
        "import pandas_datareader as web\n",
        "import numpy as np\n",
        "import pandas as pd\n",
        "from sklearn.preprocessing import MinMaxScaler\n",
        "from tensorflow.python.keras.models import Sequential\n",
        "from tensorflow.python.keras.layers import Dense, LSTM, Dropout\n",
        "import matplotlib.pyplot as plt\n",
        "\n",
        "dataset = web.DataReader('AAPL', data_source = 'yahoo', start = '2000-01-01', end = '2020-04-30')\n",
        "dataset"
      ],
      "execution_count": 0,
      "outputs": [
        {
          "output_type": "execute_result",
          "data": {
            "text/html": [
              "<div>\n",
              "<style scoped>\n",
              "    .dataframe tbody tr th:only-of-type {\n",
              "        vertical-align: middle;\n",
              "    }\n",
              "\n",
              "    .dataframe tbody tr th {\n",
              "        vertical-align: top;\n",
              "    }\n",
              "\n",
              "    .dataframe thead th {\n",
              "        text-align: right;\n",
              "    }\n",
              "</style>\n",
              "<table border=\"1\" class=\"dataframe\">\n",
              "  <thead>\n",
              "    <tr style=\"text-align: right;\">\n",
              "      <th></th>\n",
              "      <th>High</th>\n",
              "      <th>Low</th>\n",
              "      <th>Open</th>\n",
              "      <th>Close</th>\n",
              "      <th>Volume</th>\n",
              "      <th>Adj Close</th>\n",
              "    </tr>\n",
              "    <tr>\n",
              "      <th>Date</th>\n",
              "      <th></th>\n",
              "      <th></th>\n",
              "      <th></th>\n",
              "      <th></th>\n",
              "      <th></th>\n",
              "      <th></th>\n",
              "    </tr>\n",
              "  </thead>\n",
              "  <tbody>\n",
              "    <tr>\n",
              "      <th>2000-01-03</th>\n",
              "      <td>4.017857</td>\n",
              "      <td>3.631696</td>\n",
              "      <td>3.745536</td>\n",
              "      <td>3.997768</td>\n",
              "      <td>133949200.0</td>\n",
              "      <td>3.470226</td>\n",
              "    </tr>\n",
              "    <tr>\n",
              "      <th>2000-01-04</th>\n",
              "      <td>3.950893</td>\n",
              "      <td>3.613839</td>\n",
              "      <td>3.866071</td>\n",
              "      <td>3.660714</td>\n",
              "      <td>128094400.0</td>\n",
              "      <td>3.177650</td>\n",
              "    </tr>\n",
              "    <tr>\n",
              "      <th>2000-01-05</th>\n",
              "      <td>3.948661</td>\n",
              "      <td>3.678571</td>\n",
              "      <td>3.705357</td>\n",
              "      <td>3.714286</td>\n",
              "      <td>194580400.0</td>\n",
              "      <td>3.224152</td>\n",
              "    </tr>\n",
              "    <tr>\n",
              "      <th>2000-01-06</th>\n",
              "      <td>3.821429</td>\n",
              "      <td>3.392857</td>\n",
              "      <td>3.790179</td>\n",
              "      <td>3.392857</td>\n",
              "      <td>191993200.0</td>\n",
              "      <td>2.945139</td>\n",
              "    </tr>\n",
              "    <tr>\n",
              "      <th>2000-01-07</th>\n",
              "      <td>3.607143</td>\n",
              "      <td>3.410714</td>\n",
              "      <td>3.446429</td>\n",
              "      <td>3.553571</td>\n",
              "      <td>115183600.0</td>\n",
              "      <td>3.084645</td>\n",
              "    </tr>\n",
              "    <tr>\n",
              "      <th>...</th>\n",
              "      <td>...</td>\n",
              "      <td>...</td>\n",
              "      <td>...</td>\n",
              "      <td>...</td>\n",
              "      <td>...</td>\n",
              "      <td>...</td>\n",
              "    </tr>\n",
              "    <tr>\n",
              "      <th>2020-04-24</th>\n",
              "      <td>283.010010</td>\n",
              "      <td>277.000000</td>\n",
              "      <td>277.200012</td>\n",
              "      <td>282.970001</td>\n",
              "      <td>31627200.0</td>\n",
              "      <td>282.970001</td>\n",
              "    </tr>\n",
              "    <tr>\n",
              "      <th>2020-04-27</th>\n",
              "      <td>284.540009</td>\n",
              "      <td>279.950012</td>\n",
              "      <td>281.799988</td>\n",
              "      <td>283.170013</td>\n",
              "      <td>29271900.0</td>\n",
              "      <td>283.170013</td>\n",
              "    </tr>\n",
              "    <tr>\n",
              "      <th>2020-04-28</th>\n",
              "      <td>285.829987</td>\n",
              "      <td>278.200012</td>\n",
              "      <td>285.079987</td>\n",
              "      <td>278.579987</td>\n",
              "      <td>28001200.0</td>\n",
              "      <td>278.579987</td>\n",
              "    </tr>\n",
              "    <tr>\n",
              "      <th>2020-04-29</th>\n",
              "      <td>289.670013</td>\n",
              "      <td>283.890015</td>\n",
              "      <td>284.730011</td>\n",
              "      <td>287.730011</td>\n",
              "      <td>34320200.0</td>\n",
              "      <td>287.730011</td>\n",
              "    </tr>\n",
              "    <tr>\n",
              "      <th>2020-04-30</th>\n",
              "      <td>294.529999</td>\n",
              "      <td>288.350006</td>\n",
              "      <td>289.959991</td>\n",
              "      <td>293.799988</td>\n",
              "      <td>45766000.0</td>\n",
              "      <td>293.799988</td>\n",
              "    </tr>\n",
              "  </tbody>\n",
              "</table>\n",
              "<p>5114 rows × 6 columns</p>\n",
              "</div>"
            ],
            "text/plain": [
              "                  High         Low  ...       Volume   Adj Close\n",
              "Date                                ...                         \n",
              "2000-01-03    4.017857    3.631696  ...  133949200.0    3.470226\n",
              "2000-01-04    3.950893    3.613839  ...  128094400.0    3.177650\n",
              "2000-01-05    3.948661    3.678571  ...  194580400.0    3.224152\n",
              "2000-01-06    3.821429    3.392857  ...  191993200.0    2.945139\n",
              "2000-01-07    3.607143    3.410714  ...  115183600.0    3.084645\n",
              "...                ...         ...  ...          ...         ...\n",
              "2020-04-24  283.010010  277.000000  ...   31627200.0  282.970001\n",
              "2020-04-27  284.540009  279.950012  ...   29271900.0  283.170013\n",
              "2020-04-28  285.829987  278.200012  ...   28001200.0  278.579987\n",
              "2020-04-29  289.670013  283.890015  ...   34320200.0  287.730011\n",
              "2020-04-30  294.529999  288.350006  ...   45766000.0  293.799988\n",
              "\n",
              "[5114 rows x 6 columns]"
            ]
          },
          "metadata": {
            "tags": []
          },
          "execution_count": 6
        }
      ]
    },
    {
      "cell_type": "code",
      "metadata": {
        "id": "rBBUZSLR2nfs",
        "colab_type": "code",
        "outputId": "67ea1093-64e9-4101-9e40-5bc186d06f7d",
        "colab": {
          "base_uri": "https://localhost:8080/",
          "height": 35
        }
      },
      "source": [
        "dataset.shape\n"
      ],
      "execution_count": 0,
      "outputs": [
        {
          "output_type": "execute_result",
          "data": {
            "text/plain": [
              "(5114, 6)"
            ]
          },
          "metadata": {
            "tags": []
          },
          "execution_count": 7
        }
      ]
    },
    {
      "cell_type": "code",
      "metadata": {
        "id": "ntAY0aUw2yp-",
        "colab_type": "code",
        "outputId": "ddcbb86f-211f-4006-b4d2-1a983f7f9a4f",
        "colab": {
          "base_uri": "https://localhost:8080/",
          "height": 518
        }
      },
      "source": [
        "plt.figure(figsize = (12, 8))\n",
        "plt.plot(dataset['Open'])\n",
        "plt.plot(dataset['Close'])\n",
        "plt.plot(dataset['High'])\n",
        "plt.plot(dataset['Low'])\n",
        "plt.xlabel('Date', fontsize = 15)\n",
        "plt.ylabel('Closing Price in USD', fontsize = 15)\n",
        "plt.title('Close Price History')\n",
        "plt.legend(['Open', 'Close', 'High', 'Low'], loc = 'upper left')\n",
        "plt.show()"
      ],
      "execution_count": 0,
      "outputs": [
        {
          "output_type": "display_data",
          "data": {
            "image/png": "[encoded data removed]",
            "text/plain": [
              "<Figure size 864x576 with 1 Axes>"
            ]
          },
          "metadata": {
            "tags": [],
            "needs_background": "light"
          }
        }
      ]
    },
    {
      "cell_type": "code",
      "metadata": {
        "id": "o5ny1GBf23uI",
        "colab_type": "code",
        "outputId": "332d8406-92a7-45c6-c048-8ec2e3864e3b",
        "colab": {
          "base_uri": "https://localhost:8080/",
          "height": 35
        }
      },
      "source": [
        "close_price = dataset.filter(['Close']).values\n",
        "data_train_len = math.ceil(len(close_price) * .8)\n",
        "\n",
        "sc = MinMaxScaler(feature_range = (0, 1))\n",
        "sc_data = sc.fit_transform(close_price)\n",
        "\n",
        "data_train = sc_data[0 : data_train_len, : ]\n",
        "xtrain = []\n",
        "ytrain = []\n",
        "for i in range(60, len(data_train)):\n",
        "    xtrain.append(data_train[i - 60 : i, 0])\n",
        "    ytrain.append(data_train[i, 0])\n",
        "\n",
        "xtrain, ytrain = np.array(xtrain), np.array(ytrain)\n",
        "xtrain = np.reshape(xtrain, (xtrain.shape[0], xtrain.shape[1], 1))\n",
        "xtrain.shape"
      ],
      "execution_count": 0,
      "outputs": [
        {
          "output_type": "execute_result",
          "data": {
            "text/plain": [
              "(4032, 60, 1)"
            ]
          },
          "metadata": {
            "tags": []
          },
          "execution_count": 9
        }
      ]
    },
    {
      "cell_type": "code",
      "metadata": {
        "id": "8NcrW1sI3Cye",
        "colab_type": "code",
        "outputId": "c97b87fe-bc4a-413d-db48-0843f05a0827",
        "colab": {
          "base_uri": "https://localhost:8080/",
          "height": 1000
        }
      },
      "source": [
        "model = Sequential()\n",
        "model.add(LSTM(units = 512, return_sequences = True, input_shape = (xtrain.shape[1], 1)))\n",
        "model.add(Dropout(0.2))\n",
        "\n",
        "model.add(LSTM(units = 512, return_sequences = True))\n",
        "model.add(Dropout(0.2))\n",
        "\n",
        "model.add(LSTM(units = 512, return_sequences = True))\n",
        "model.add(Dropout(0.2))\n",
        "\n",
        "model.add(LSTM(units = 512, return_sequences = False))\n",
        "model.add(Dropout(0.2))\n",
        "\n",
        "model.add(Dense(units = 25))\n",
        "model.add(Dense(units = 1))\n",
        "\n",
        "model.compile(optimizer = 'adam', loss = 'mean_squared_error')\n",
        "model.fit(xtrain, ytrain, batch_size = 128, epochs = 150)"
      ],
      "execution_count": 0,
      "outputs": [
        {
          "output_type": "stream",
          "text": [
            "Epoch 1/150\n",
            "32/32 [==============================] - 2s 76ms/step - loss: 0.0045\n",
            "Epoch 2/150\n",
            "32/32 [==============================] - 2s 76ms/step - loss: 1.3323e-04\n",
            "Epoch 3/150\n",
            "32/32 [==============================] - 2s 76ms/step - loss: 9.6788e-05\n",
            "Epoch 4/150\n",
            "32/32 [==============================] - 2s 76ms/step - loss: 9.4790e-05\n",
            "Epoch 5/150\n",
            "32/32 [==============================] - 2s 76ms/step - loss: 8.9508e-05\n",
            "Epoch 6/150\n",
            "32/32 [==============================] - 2s 76ms/step - loss: 1.0701e-04\n",
            "Epoch 7/150\n",
            "32/32 [==============================] - 2s 76ms/step - loss: 1.6005e-04\n",
            "Epoch 8/150\n",
            "32/32 [==============================] - 2s 76ms/step - loss: 8.9983e-05\n",
            "Epoch 9/150\n",
            "32/32 [==============================] - 2s 77ms/step - loss: 7.5886e-05\n",
            "Epoch 10/150\n",
            "32/32 [==============================] - 2s 76ms/step - loss: 6.7437e-05\n",
            "Epoch 11/150\n",
            "32/32 [==============================] - 2s 75ms/step - loss: 5.8584e-05\n",
            "Epoch 12/150\n",
            "32/32 [==============================] - 2s 75ms/step - loss: 6.4400e-05\n",
            "Epoch 13/150\n",
            "32/32 [==============================] - 2s 75ms/step - loss: 6.7448e-05\n",
            "Epoch 14/150\n",
            "32/32 [==============================] - 2s 75ms/step - loss: 7.5212e-05\n",
            "Epoch 15/150\n",
            "32/32 [==============================] - 2s 75ms/step - loss: 8.1936e-05\n",
            "Epoch 16/150\n",
            "32/32 [==============================] - 2s 75ms/step - loss: 5.8981e-05\n",
            "Epoch 17/150\n",
            "32/32 [==============================] - 2s 76ms/step - loss: 8.7036e-05\n",
            "Epoch 18/150\n",
            "32/32 [==============================] - 2s 76ms/step - loss: 9.6251e-05\n",
            "Epoch 19/150\n",
            "32/32 [==============================] - 2s 76ms/step - loss: 6.7077e-05\n",
            "Epoch 20/150\n",
            "32/32 [==============================] - 2s 76ms/step - loss: 6.3594e-05\n",
            "Epoch 21/150\n",
            "32/32 [==============================] - 2s 76ms/step - loss: 5.7815e-05\n",
            "Epoch 22/150\n",
            "32/32 [==============================] - 2s 76ms/step - loss: 6.9400e-05\n",
            "Epoch 23/150\n",
            "32/32 [==============================] - 2s 76ms/step - loss: 7.5710e-05\n",
            "Epoch 24/150\n",
            "32/32 [==============================] - 2s 76ms/step - loss: 5.4692e-05\n",
            "Epoch 25/150\n",
            "32/32 [==============================] - 2s 76ms/step - loss: 6.3157e-05\n",
            "Epoch 26/150\n",
            "32/32 [==============================] - 2s 76ms/step - loss: 6.4667e-05\n",
            "Epoch 27/150\n",
            "32/32 [==============================] - 2s 76ms/step - loss: 5.2844e-05\n",
            "Epoch 28/150\n",
            "32/32 [==============================] - 2s 76ms/step - loss: 5.4603e-05\n",
            "Epoch 29/150\n",
            "32/32 [==============================] - 2s 76ms/step - loss: 6.7130e-05\n",
            "Epoch 30/150\n",
            "32/32 [==============================] - 2s 76ms/step - loss: 6.5545e-05\n",
            "Epoch 31/150\n",
            "32/32 [==============================] - 2s 75ms/step - loss: 5.1775e-05\n",
            "Epoch 32/150\n",
            "32/32 [==============================] - 2s 76ms/step - loss: 5.6785e-05\n",
            "Epoch 33/150\n",
            "32/32 [==============================] - 2s 76ms/step - loss: 5.2648e-05\n",
            "Epoch 34/150\n",
            "32/32 [==============================] - 2s 76ms/step - loss: 5.6325e-05\n",
            "Epoch 35/150\n",
            "32/32 [==============================] - 2s 75ms/step - loss: 7.0010e-05\n",
            "Epoch 36/150\n",
            "32/32 [==============================] - 2s 75ms/step - loss: 7.2459e-05\n",
            "Epoch 37/150\n",
            "32/32 [==============================] - 2s 76ms/step - loss: 5.7320e-05\n",
            "Epoch 38/150\n",
            "32/32 [==============================] - 2s 76ms/step - loss: 8.6445e-05\n",
            "Epoch 39/150\n",
            "32/32 [==============================] - 2s 76ms/step - loss: 7.3606e-05\n",
            "Epoch 40/150\n",
            "32/32 [==============================] - 2s 76ms/step - loss: 7.3791e-05\n",
            "Epoch 41/150\n",
            "32/32 [==============================] - 2s 76ms/step - loss: 8.5816e-05\n",
            "Epoch 42/150\n",
            "32/32 [==============================] - 2s 76ms/step - loss: 5.2047e-05\n",
            "Epoch 43/150\n",
            "32/32 [==============================] - 2s 76ms/step - loss: 4.5883e-05\n",
            "Epoch 44/150\n",
            "32/32 [==============================] - 2s 76ms/step - loss: 5.1766e-05\n",
            "Epoch 45/150\n",
            "32/32 [==============================] - 2s 76ms/step - loss: 4.4252e-05\n",
            "Epoch 46/150\n",
            "32/32 [==============================] - 2s 76ms/step - loss: 5.1439e-05\n",
            "Epoch 47/150\n",
            "32/32 [==============================] - 2s 76ms/step - loss: 7.0470e-05\n",
            "Epoch 48/150\n",
            "32/32 [==============================] - 2s 77ms/step - loss: 4.6830e-05\n",
            "Epoch 49/150\n",
            "32/32 [==============================] - 2s 76ms/step - loss: 4.5684e-05\n",
            "Epoch 50/150\n",
            "32/32 [==============================] - 2s 76ms/step - loss: 4.8989e-05\n",
            "Epoch 51/150\n",
            "32/32 [==============================] - 2s 76ms/step - loss: 5.3561e-05\n",
            "Epoch 52/150\n",
            "32/32 [==============================] - 2s 76ms/step - loss: 4.8618e-05\n",
            "Epoch 53/150\n",
            "32/32 [==============================] - 2s 76ms/step - loss: 4.9406e-05\n",
            "Epoch 54/150\n",
            "32/32 [==============================] - 2s 76ms/step - loss: 5.2549e-05\n",
            "Epoch 55/150\n",
            "32/32 [==============================] - 2s 75ms/step - loss: 6.5803e-05\n",
            "Epoch 56/150\n",
            "32/32 [==============================] - 2s 75ms/step - loss: 4.6581e-05\n",
            "Epoch 57/150\n",
            "32/32 [==============================] - 2s 76ms/step - loss: 4.7691e-05\n",
            "Epoch 58/150\n",
            "32/32 [==============================] - 2s 76ms/step - loss: 4.6225e-05\n",
            "Epoch 59/150\n",
            "32/32 [==============================] - 2s 76ms/step - loss: 6.2014e-05\n",
            "Epoch 60/150\n",
            "32/32 [==============================] - 2s 76ms/step - loss: 3.9961e-05\n",
            "Epoch 61/150\n",
            "32/32 [==============================] - 2s 76ms/step - loss: 5.7801e-05\n",
            "Epoch 62/150\n",
            "32/32 [==============================] - 2s 76ms/step - loss: 6.2963e-05\n",
            "Epoch 63/150\n",
            "32/32 [==============================] - 2s 76ms/step - loss: 8.2664e-05\n",
            "Epoch 64/150\n",
            "32/32 [==============================] - 2s 76ms/step - loss: 7.1340e-05\n",
            "Epoch 65/150\n",
            "32/32 [==============================] - 2s 75ms/step - loss: 5.0663e-05\n",
            "Epoch 66/150\n",
            "32/32 [==============================] - 2s 75ms/step - loss: 4.8269e-05\n",
            "Epoch 67/150\n",
            "32/32 [==============================] - 2s 75ms/step - loss: 4.6612e-05\n",
            "Epoch 68/150\n",
            "32/32 [==============================] - 2s 75ms/step - loss: 5.4960e-05\n",
            "Epoch 69/150\n",
            "32/32 [==============================] - 2s 75ms/step - loss: 4.1029e-05\n",
            "Epoch 70/150\n",
            "32/32 [==============================] - 2s 75ms/step - loss: 5.7229e-05\n",
            "Epoch 71/150\n",
            "32/32 [==============================] - 2s 75ms/step - loss: 5.8446e-05\n",
            "Epoch 72/150\n",
            "32/32 [==============================] - 2s 76ms/step - loss: 6.1900e-05\n",
            "Epoch 73/150\n",
            "32/32 [==============================] - 2s 76ms/step - loss: 5.1241e-05\n",
            "Epoch 74/150\n",
            "32/32 [==============================] - 2s 75ms/step - loss: 4.2644e-05\n",
            "Epoch 75/150\n",
            "32/32 [==============================] - 2s 75ms/step - loss: 6.1998e-05\n",
            "Epoch 76/150\n",
            "32/32 [==============================] - 2s 76ms/step - loss: 6.6543e-05\n",
            "Epoch 77/150\n",
            "32/32 [==============================] - 2s 75ms/step - loss: 4.5507e-05\n",
            "Epoch 78/150\n",
            "32/32 [==============================] - 2s 75ms/step - loss: 4.8884e-05\n",
            "Epoch 79/150\n",
            "32/32 [==============================] - 2s 75ms/step - loss: 6.1900e-05\n",
            "Epoch 80/150\n",
            "32/32 [==============================] - 2s 76ms/step - loss: 8.4836e-05\n",
            "Epoch 81/150\n",
            "32/32 [==============================] - 2s 75ms/step - loss: 4.9813e-05\n",
            "Epoch 82/150\n",
            "32/32 [==============================] - 2s 76ms/step - loss: 4.6037e-05\n",
            "Epoch 83/150\n",
            "32/32 [==============================] - 2s 75ms/step - loss: 4.1835e-05\n",
            "Epoch 84/150\n",
            "32/32 [==============================] - 2s 75ms/step - loss: 5.0073e-05\n",
            "Epoch 85/150\n",
            "32/32 [==============================] - 2s 75ms/step - loss: 5.8423e-05\n",
            "Epoch 86/150\n",
            "32/32 [==============================] - 2s 75ms/step - loss: 4.5531e-05\n",
            "Epoch 87/150\n",
            "32/32 [==============================] - 2s 76ms/step - loss: 6.8335e-05\n",
            "Epoch 88/150\n",
            "32/32 [==============================] - 2s 76ms/step - loss: 5.4161e-05\n",
            "Epoch 89/150\n",
            "32/32 [==============================] - 2s 76ms/step - loss: 6.6126e-05\n",
            "Epoch 90/150\n",
            "32/32 [==============================] - 2s 76ms/step - loss: 6.5559e-05\n",
            "Epoch 91/150\n",
            "32/32 [==============================] - 2s 75ms/step - loss: 6.6389e-05\n",
            "Epoch 92/150\n",
            "32/32 [==============================] - 2s 75ms/step - loss: 4.5735e-05\n",
            "Epoch 93/150\n",
            "32/32 [==============================] - 2s 76ms/step - loss: 4.4107e-05\n",
            "Epoch 94/150\n",
            "32/32 [==============================] - 2s 75ms/step - loss: 5.6980e-05\n",
            "Epoch 95/150\n",
            "32/32 [==============================] - 2s 75ms/step - loss: 4.1474e-05\n",
            "Epoch 96/150\n",
            "32/32 [==============================] - 2s 75ms/step - loss: 4.4192e-05\n",
            "Epoch 97/150\n",
            "32/32 [==============================] - 2s 75ms/step - loss: 7.9695e-05\n",
            "Epoch 98/150\n",
            "32/32 [==============================] - 2s 75ms/step - loss: 8.5573e-05\n",
            "Epoch 99/150\n",
            "32/32 [==============================] - 2s 76ms/step - loss: 5.1945e-05\n",
            "Epoch 100/150\n",
            "32/32 [==============================] - 2s 76ms/step - loss: 5.6297e-05\n",
            "Epoch 101/150\n",
            "32/32 [==============================] - 2s 75ms/step - loss: 4.8062e-05\n",
            "Epoch 102/150\n",
            "32/32 [==============================] - 2s 75ms/step - loss: 6.2571e-05\n",
            "Epoch 103/150\n",
            "32/32 [==============================] - 2s 76ms/step - loss: 4.3646e-05\n",
            "Epoch 104/150\n",
            "32/32 [==============================] - 2s 76ms/step - loss: 7.5356e-05\n",
            "Epoch 105/150\n",
            "32/32 [==============================] - 2s 76ms/step - loss: 4.1909e-05\n",
            "Epoch 106/150\n",
            "32/32 [==============================] - 2s 76ms/step - loss: 4.3107e-05\n",
            "Epoch 107/150\n",
            "32/32 [==============================] - 2s 77ms/step - loss: 4.4358e-05\n",
            "Epoch 108/150\n",
            "32/32 [==============================] - 2s 76ms/step - loss: 4.1410e-05\n",
            "Epoch 109/150\n",
            "32/32 [==============================] - 2s 76ms/step - loss: 4.9384e-05\n",
            "Epoch 110/150\n",
            "32/32 [==============================] - 2s 76ms/step - loss: 7.5749e-05\n",
            "Epoch 111/150\n",
            "32/32 [==============================] - 2s 76ms/step - loss: 4.6007e-05\n",
            "Epoch 112/150\n",
            "32/32 [==============================] - 2s 75ms/step - loss: 5.1058e-05\n",
            "Epoch 113/150\n",
            "32/32 [==============================] - 2s 76ms/step - loss: 3.8202e-05\n",
            "Epoch 114/150\n",
            "32/32 [==============================] - 2s 76ms/step - loss: 4.7716e-05\n",
            "Epoch 115/150\n",
            "32/32 [==============================] - 2s 75ms/step - loss: 4.4893e-05\n",
            "Epoch 116/150\n",
            "32/32 [==============================] - 2s 75ms/step - loss: 5.5367e-05\n",
            "Epoch 117/150\n",
            "32/32 [==============================] - 2s 75ms/step - loss: 4.5831e-05\n",
            "Epoch 118/150\n",
            "32/32 [==============================] - 2s 75ms/step - loss: 5.5550e-05\n",
            "Epoch 119/150\n",
            "32/32 [==============================] - 2s 75ms/step - loss: 4.0478e-05\n",
            "Epoch 120/150\n",
            "32/32 [==============================] - 2s 75ms/step - loss: 3.8841e-05\n",
            "Epoch 121/150\n",
            "32/32 [==============================] - 2s 75ms/step - loss: 4.5474e-05\n",
            "Epoch 122/150\n",
            "32/32 [==============================] - 2s 75ms/step - loss: 9.8131e-05\n",
            "Epoch 123/150\n",
            "32/32 [==============================] - 2s 75ms/step - loss: 5.9256e-05\n",
            "Epoch 124/150\n",
            "32/32 [==============================] - 2s 75ms/step - loss: 5.3838e-05\n",
            "Epoch 125/150\n",
            "32/32 [==============================] - 2s 74ms/step - loss: 4.1814e-05\n",
            "Epoch 126/150\n",
            "32/32 [==============================] - 2s 75ms/step - loss: 4.6875e-05\n",
            "Epoch 127/150\n",
            "32/32 [==============================] - 2s 75ms/step - loss: 5.0609e-05\n",
            "Epoch 128/150\n",
            "32/32 [==============================] - 2s 75ms/step - loss: 6.0111e-05\n",
            "Epoch 129/150\n",
            "32/32 [==============================] - 2s 76ms/step - loss: 4.3213e-05\n",
            "Epoch 130/150\n",
            "32/32 [==============================] - 2s 75ms/step - loss: 3.4818e-05\n",
            "Epoch 131/150\n",
            "32/32 [==============================] - 2s 75ms/step - loss: 7.7338e-05\n",
            "Epoch 132/150\n",
            "32/32 [==============================] - 2s 76ms/step - loss: 4.9064e-05\n",
            "Epoch 133/150\n",
            "32/32 [==============================] - 2s 76ms/step - loss: 4.2682e-05\n",
            "Epoch 134/150\n",
            "32/32 [==============================] - 2s 76ms/step - loss: 4.4114e-05\n",
            "Epoch 135/150\n",
            "32/32 [==============================] - 2s 76ms/step - loss: 4.4928e-05\n",
            "Epoch 136/150\n",
            "32/32 [==============================] - 2s 76ms/step - loss: 4.7033e-05\n",
            "Epoch 137/150\n",
            "32/32 [==============================] - 2s 76ms/step - loss: 4.5786e-05\n",
            "Epoch 138/150\n",
            "32/32 [==============================] - 2s 76ms/step - loss: 4.0399e-05\n",
            "Epoch 139/150\n",
            "32/32 [==============================] - 2s 75ms/step - loss: 3.6830e-05\n",
            "Epoch 140/150\n",
            "32/32 [==============================] - 2s 75ms/step - loss: 4.5243e-05\n",
            "Epoch 141/150\n",
            "32/32 [==============================] - 2s 75ms/step - loss: 5.1591e-05\n",
            "Epoch 142/150\n",
            "32/32 [==============================] - 2s 76ms/step - loss: 4.6150e-05\n",
            "Epoch 143/150\n",
            "32/32 [==============================] - 2s 75ms/step - loss: 8.3924e-05\n",
            "Epoch 144/150\n",
            "32/32 [==============================] - 2s 75ms/step - loss: 1.0418e-04\n",
            "Epoch 145/150\n",
            "32/32 [==============================] - 2s 75ms/step - loss: 5.2475e-05\n",
            "Epoch 146/150\n",
            "32/32 [==============================] - 2s 76ms/step - loss: 6.1818e-05\n",
            "Epoch 147/150\n",
            "32/32 [==============================] - 2s 76ms/step - loss: 4.5750e-05\n",
            "Epoch 148/150\n",
            "32/32 [==============================] - 2s 76ms/step - loss: 4.8886e-05\n",
            "Epoch 149/150\n",
            "32/32 [==============================] - 2s 75ms/step - loss: 3.7799e-05\n",
            "Epoch 150/150\n",
            "32/32 [==============================] - 2s 76ms/step - loss: 4.4008e-05\n"
          ],
          "name": "stdout"
        },
        {
          "output_type": "execute_result",
          "data": {
            "text/plain": [
              "<tensorflow.python.keras.callbacks.History at 0x7f8eb4f58668>"
            ]
          },
          "metadata": {
            "tags": []
          },
          "execution_count": 10
        }
      ]
    },
    {
      "cell_type": "code",
      "metadata": {
        "id": "DBPv2Yr6FxyA",
        "colab_type": "code",
        "colab": {}
      },
      "source": [
        "data_test = sc_data[data_train_len - 60 : , :]\n",
        "xtest = []\n",
        "ytest = close_price[data_train_len :, :]\n",
        "for i in range(60, len(data_test)):\n",
        "    xtest.append(data_test[i - 60 : i, 0])\n",
        "\n",
        "xtest = np.array(xtest)\n",
        "xtest = np.reshape(xtest, (xtest.shape[0], xtest.shape[1], 1))"
      ],
      "execution_count": 0,
      "outputs": []
    },
    {
      "cell_type": "code",
      "metadata": {
        "id": "y5oY5LhaMz8s",
        "colab_type": "code",
        "outputId": "8f755b8f-e07d-4dc2-f6cc-9788d03c5639",
        "colab": {
          "base_uri": "https://localhost:8080/",
          "height": 35
        }
      },
      "source": [
        "close_price_pred = model.predict(xtest)\n",
        "close_price_pred = sc.inverse_transform(close_price_pred)\n",
        "rmse_score = np.sqrt(np.mean(((close_price_pred - ytest) ** 2)))\n",
        "rmse_score"
      ],
      "execution_count": 0,
      "outputs": [
        {
          "output_type": "execute_result",
          "data": {
            "text/plain": [
              "4.605035365368506"
            ]
          },
          "metadata": {
            "tags": []
          },
          "execution_count": 12
        }
      ]
    },
    {
      "cell_type": "code",
      "metadata": {
        "id": "lLaMT00fM9nb",
        "colab_type": "code",
        "outputId": "8fd187a9-cba9-4fda-ecda-3dcf56369ede",
        "colab": {
          "base_uri": "https://localhost:8080/",
          "height": 553
        }
      },
      "source": [
        "train = dataset.filter(['Close'])[: data_train_len]\n",
        "valid = dataset.filter(['Close'])[data_train_len :]\n",
        "valid['Predictions'] = close_price_pred\n",
        "\n",
        "plt.figure(figsize = (12, 8))\n",
        "plt.plot(train['Close'])\n",
        "plt.plot(valid[['Close', 'Predictions']])\n",
        "plt.xlabel('Date', fontsize = 15)\n",
        "plt.ylabel('Closing Price in USD')\n",
        "plt.legend(['Train', 'Val', 'Predictions'], loc = 'lower right')\n",
        "plt.title('Model')\n",
        "plt.show()\n",
        "\n",
        "print(len(valid))\n",
        "print(len(close_price_pred))"
      ],
      "execution_count": 0,
      "outputs": [
        {
          "output_type": "display_data",
          "data": {
            "image/png": "[encoded data removed]",
            "text/plain": [
              "<Figure size 864x576 with 1 Axes>"
            ]
          },
          "metadata": {
            "tags": [],
            "needs_background": "light"
          }
        },
        {
          "output_type": "stream",
          "text": [
            "1022\n",
            "1022\n"
          ],
          "name": "stdout"
        }
      ]
    },
    {
      "cell_type": "code",
      "metadata": {
        "id": "Hz76xPTwNBAt",
        "colab_type": "code",
        "outputId": "a4dd33c3-0f0f-4438-af7c-70778b451cef",
        "colab": {
          "base_uri": "https://localhost:8080/",
          "height": 447
        }
      },
      "source": [
        "valid"
      ],
      "execution_count": 0,
      "outputs": [
        {
          "output_type": "execute_result",
          "data": {
            "text/html": [
              "<div>\n",
              "<style scoped>\n",
              "    .dataframe tbody tr th:only-of-type {\n",
              "        vertical-align: middle;\n",
              "    }\n",
              "\n",
              "    .dataframe tbody tr th {\n",
              "        vertical-align: top;\n",
              "    }\n",
              "\n",
              "    .dataframe thead th {\n",
              "        text-align: right;\n",
              "    }\n",
              "</style>\n",
              "<table border=\"1\" class=\"dataframe\">\n",
              "  <thead>\n",
              "    <tr style=\"text-align: right;\">\n",
              "      <th></th>\n",
              "      <th>Close</th>\n",
              "      <th>Predictions</th>\n",
              "    </tr>\n",
              "    <tr>\n",
              "      <th>Date</th>\n",
              "      <th></th>\n",
              "      <th></th>\n",
              "    </tr>\n",
              "  </thead>\n",
              "  <tbody>\n",
              "    <tr>\n",
              "      <th>2016-04-11</th>\n",
              "      <td>109.019997</td>\n",
              "      <td>111.564819</td>\n",
              "    </tr>\n",
              "    <tr>\n",
              "      <th>2016-04-12</th>\n",
              "      <td>110.440002</td>\n",
              "      <td>111.391182</td>\n",
              "    </tr>\n",
              "    <tr>\n",
              "      <th>2016-04-13</th>\n",
              "      <td>112.040001</td>\n",
              "      <td>111.979637</td>\n",
              "    </tr>\n",
              "    <tr>\n",
              "      <th>2016-04-14</th>\n",
              "      <td>112.099998</td>\n",
              "      <td>113.162163</td>\n",
              "    </tr>\n",
              "    <tr>\n",
              "      <th>2016-04-15</th>\n",
              "      <td>109.849998</td>\n",
              "      <td>114.040749</td>\n",
              "    </tr>\n",
              "    <tr>\n",
              "      <th>...</th>\n",
              "      <td>...</td>\n",
              "      <td>...</td>\n",
              "    </tr>\n",
              "    <tr>\n",
              "      <th>2020-04-24</th>\n",
              "      <td>282.970001</td>\n",
              "      <td>276.483551</td>\n",
              "    </tr>\n",
              "    <tr>\n",
              "      <th>2020-04-27</th>\n",
              "      <td>283.170013</td>\n",
              "      <td>280.257385</td>\n",
              "    </tr>\n",
              "    <tr>\n",
              "      <th>2020-04-28</th>\n",
              "      <td>278.579987</td>\n",
              "      <td>283.182648</td>\n",
              "    </tr>\n",
              "    <tr>\n",
              "      <th>2020-04-29</th>\n",
              "      <td>287.730011</td>\n",
              "      <td>282.484924</td>\n",
              "    </tr>\n",
              "    <tr>\n",
              "      <th>2020-04-30</th>\n",
              "      <td>293.799988</td>\n",
              "      <td>283.991241</td>\n",
              "    </tr>\n",
              "  </tbody>\n",
              "</table>\n",
              "<p>1022 rows × 2 columns</p>\n",
              "</div>"
            ],
            "text/plain": [
              "                 Close  Predictions\n",
              "Date                               \n",
              "2016-04-11  109.019997   111.564819\n",
              "2016-04-12  110.440002   111.391182\n",
              "2016-04-13  112.040001   111.979637\n",
              "2016-04-14  112.099998   113.162163\n",
              "2016-04-15  109.849998   114.040749\n",
              "...                ...          ...\n",
              "2020-04-24  282.970001   276.483551\n",
              "2020-04-27  283.170013   280.257385\n",
              "2020-04-28  278.579987   283.182648\n",
              "2020-04-29  287.730011   282.484924\n",
              "2020-04-30  293.799988   283.991241\n",
              "\n",
              "[1022 rows x 2 columns]"
            ]
          },
          "metadata": {
            "tags": []
          },
          "execution_count": 14
        }
      ]
    },
    {
      "cell_type": "code",
      "metadata": {
        "id": "ZxlCiDxJNE0c",
        "colab_type": "code",
        "outputId": "cf025fc4-fe77-4669-fee1-4a20122d9a73",
        "colab": {
          "base_uri": "https://localhost:8080/",
          "height": 35
        }
      },
      "source": [
        "apple_stock_price = web.DataReader('AAPL', data_source = 'yahoo', start = '2000-01-01', end = '2020-04-30')\n",
        "new_dataset = apple_stock_price.filter(['Close'])\n",
        "last_60_days = new_dataset[-60 :].values\n",
        "last_60_days_sc = sc.transform(last_60_days)\n",
        "xtest1 = []\n",
        "xtest1.append(last_60_days_sc)\n",
        "xtest1 = np.array(xtest1)\n",
        "xtest1 = np.reshape(xtest1, (xtest1.shape[0], xtest1.shape[1], 1))\n",
        "pred_price = model.predict(xtest1)\n",
        "pred_price = sc.inverse_transform(pred_price)\n",
        "print(pred_price)"
      ],
      "execution_count": 0,
      "outputs": [
        {
          "output_type": "stream",
          "text": [
            "[[288.11166]]\n"
          ],
          "name": "stdout"
        }
      ]
    },
    {
      "cell_type": "code",
      "metadata": {
        "id": "CWwCBD30NJHH",
        "colab_type": "code",
        "outputId": "e60d86f8-18fb-47b8-c88f-57fc28e40e51",
        "colab": {
          "base_uri": "https://localhost:8080/",
          "height": 87
        }
      },
      "source": [
        "apple_stock_2 = web.DataReader('AAPL', data_source = 'yahoo', start = '2020-05-01', end = '2020-05-02')\n",
        "print(apple_stock_2['Close'])"
      ],
      "execution_count": 0,
      "outputs": [
        {
          "output_type": "stream",
          "text": [
            "Date\n",
            "2020-05-01    289.070007\n",
            "2020-05-01    289.070007\n",
            "Name: Close, dtype: float64\n"
          ],
          "name": "stdout"
        }
      ]
    }
  ]
}