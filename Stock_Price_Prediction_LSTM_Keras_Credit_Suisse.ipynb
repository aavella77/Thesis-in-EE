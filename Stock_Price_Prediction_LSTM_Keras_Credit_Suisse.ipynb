{
  "nbformat": 4,
  "nbformat_minor": 0,
  "metadata": {
    "colab": {
      "name": "Stock_Price_Prediction_LSTM-Keras_Credit_Suisse.ipynb",
      "provenance": [],
      "authorship_tag": "ABX9TyPdT3BqsBpLb62lfAaJdaGF",
      "include_colab_link": true
    },
    "kernelspec": {
      "name": "python3",
      "display_name": "Python 3"
    },
    "accelerator": "GPU"
  },
  "cells": [
    {
      "cell_type": "markdown",
      "metadata": {
        "id": "view-in-github",
        "colab_type": "text"
      },
      "source": [
        "<a href=\"https://colab.research.google.com/github/alamau01/Thesis-in-EE/blob/master/Stock_Price_Prediction_LSTM_Keras_Credit_Suisse.ipynb\" target=\"_parent\"><img src=\"https://colab.research.google.com/assets/colab-badge.svg\" alt=\"Open In Colab\"/></a>"
      ]
    },
    {
      "cell_type": "code",
      "metadata": {
        "id": "xJ0lWksLy76_",
        "colab_type": "code",
        "outputId": "2b9bec5a-581f-4eb0-f69a-c78b878854b6",
        "colab": {
          "base_uri": "https://localhost:8080/",
          "height": 503
        }
      },
      "source": [
        "import math\n",
        "import pandas_datareader as web\n",
        "import numpy as np\n",
        "import pandas as pd\n",
        "from sklearn.preprocessing import MinMaxScaler\n",
        "from tensorflow.python.keras.models import Sequential\n",
        "from tensorflow.python.keras.layers import Dense, LSTM, Dropout\n",
        "import matplotlib.pyplot as plt\n",
        "\n",
        "dataset = web.DataReader('CS', data_source = 'yahoo', start = '2000-01-01', end = '2020-03-31')\n",
        "dataset"
      ],
      "execution_count": 0,
      "outputs": [
        {
          "output_type": "stream",
          "text": [
            "/usr/local/lib/python3.6/dist-packages/pandas_datareader/compat/__init__.py:7: FutureWarning: pandas.util.testing is deprecated. Use the functions in the public API at pandas.testing instead.\n",
            "  from pandas.util.testing import assert_frame_equal\n"
          ],
          "name": "stderr"
        },
        {
          "output_type": "execute_result",
          "data": {
            "text/html": [
              "<div>\n",
              "<style scoped>\n",
              "    .dataframe tbody tr th:only-of-type {\n",
              "        vertical-align: middle;\n",
              "    }\n",
              "\n",
              "    .dataframe tbody tr th {\n",
              "        vertical-align: top;\n",
              "    }\n",
              "\n",
              "    .dataframe thead th {\n",
              "        text-align: right;\n",
              "    }\n",
              "</style>\n",
              "<table border=\"1\" class=\"dataframe\">\n",
              "  <thead>\n",
              "    <tr style=\"text-align: right;\">\n",
              "      <th></th>\n",
              "      <th>High</th>\n",
              "      <th>Low</th>\n",
              "      <th>Open</th>\n",
              "      <th>Close</th>\n",
              "      <th>Volume</th>\n",
              "      <th>Adj Close</th>\n",
              "    </tr>\n",
              "    <tr>\n",
              "      <th>Date</th>\n",
              "      <th></th>\n",
              "      <th></th>\n",
              "      <th></th>\n",
              "      <th></th>\n",
              "      <th></th>\n",
              "      <th></th>\n",
              "    </tr>\n",
              "  </thead>\n",
              "  <tbody>\n",
              "    <tr>\n",
              "      <th>2000-01-03</th>\n",
              "      <td>48.583984</td>\n",
              "      <td>48.339844</td>\n",
              "      <td>48.339844</td>\n",
              "      <td>48.339844</td>\n",
              "      <td>2000.0</td>\n",
              "      <td>26.217627</td>\n",
              "    </tr>\n",
              "    <tr>\n",
              "      <th>2000-01-04</th>\n",
              "      <td>47.607422</td>\n",
              "      <td>46.630859</td>\n",
              "      <td>46.875000</td>\n",
              "      <td>46.875000</td>\n",
              "      <td>6400.0</td>\n",
              "      <td>25.423159</td>\n",
              "    </tr>\n",
              "    <tr>\n",
              "      <th>2000-01-05</th>\n",
              "      <td>47.363281</td>\n",
              "      <td>46.386719</td>\n",
              "      <td>46.875000</td>\n",
              "      <td>46.875000</td>\n",
              "      <td>13000.0</td>\n",
              "      <td>25.423159</td>\n",
              "    </tr>\n",
              "    <tr>\n",
              "      <th>2000-01-06</th>\n",
              "      <td>47.119141</td>\n",
              "      <td>46.386719</td>\n",
              "      <td>47.119141</td>\n",
              "      <td>47.119141</td>\n",
              "      <td>1400.0</td>\n",
              "      <td>25.555563</td>\n",
              "    </tr>\n",
              "    <tr>\n",
              "      <th>2000-01-07</th>\n",
              "      <td>47.241211</td>\n",
              "      <td>46.386719</td>\n",
              "      <td>47.241211</td>\n",
              "      <td>47.241211</td>\n",
              "      <td>2200.0</td>\n",
              "      <td>25.621771</td>\n",
              "    </tr>\n",
              "    <tr>\n",
              "      <th>...</th>\n",
              "      <td>...</td>\n",
              "      <td>...</td>\n",
              "      <td>...</td>\n",
              "      <td>...</td>\n",
              "      <td>...</td>\n",
              "      <td>...</td>\n",
              "    </tr>\n",
              "    <tr>\n",
              "      <th>2020-03-25</th>\n",
              "      <td>8.560000</td>\n",
              "      <td>7.890000</td>\n",
              "      <td>8.150000</td>\n",
              "      <td>8.260000</td>\n",
              "      <td>6514800.0</td>\n",
              "      <td>8.260000</td>\n",
              "    </tr>\n",
              "    <tr>\n",
              "      <th>2020-03-26</th>\n",
              "      <td>8.970000</td>\n",
              "      <td>8.490000</td>\n",
              "      <td>8.530000</td>\n",
              "      <td>8.890000</td>\n",
              "      <td>7800400.0</td>\n",
              "      <td>8.890000</td>\n",
              "    </tr>\n",
              "    <tr>\n",
              "      <th>2020-03-27</th>\n",
              "      <td>8.540000</td>\n",
              "      <td>8.170000</td>\n",
              "      <td>8.370000</td>\n",
              "      <td>8.330000</td>\n",
              "      <td>3725100.0</td>\n",
              "      <td>8.330000</td>\n",
              "    </tr>\n",
              "    <tr>\n",
              "      <th>2020-03-30</th>\n",
              "      <td>8.410000</td>\n",
              "      <td>8.070000</td>\n",
              "      <td>8.240000</td>\n",
              "      <td>8.380000</td>\n",
              "      <td>4493700.0</td>\n",
              "      <td>8.380000</td>\n",
              "    </tr>\n",
              "    <tr>\n",
              "      <th>2020-03-31</th>\n",
              "      <td>8.290000</td>\n",
              "      <td>7.980000</td>\n",
              "      <td>8.190000</td>\n",
              "      <td>8.090000</td>\n",
              "      <td>3690300.0</td>\n",
              "      <td>8.090000</td>\n",
              "    </tr>\n",
              "  </tbody>\n",
              "</table>\n",
              "<p>5093 rows × 6 columns</p>\n",
              "</div>"
            ],
            "text/plain": [
              "                 High        Low       Open      Close     Volume  Adj Close\n",
              "Date                                                                        \n",
              "2000-01-03  48.583984  48.339844  48.339844  48.339844     2000.0  26.217627\n",
              "2000-01-04  47.607422  46.630859  46.875000  46.875000     6400.0  25.423159\n",
              "2000-01-05  47.363281  46.386719  46.875000  46.875000    13000.0  25.423159\n",
              "2000-01-06  47.119141  46.386719  47.119141  47.119141     1400.0  25.555563\n",
              "2000-01-07  47.241211  46.386719  47.241211  47.241211     2200.0  25.621771\n",
              "...               ...        ...        ...        ...        ...        ...\n",
              "2020-03-25   8.560000   7.890000   8.150000   8.260000  6514800.0   8.260000\n",
              "2020-03-26   8.970000   8.490000   8.530000   8.890000  7800400.0   8.890000\n",
              "2020-03-27   8.540000   8.170000   8.370000   8.330000  3725100.0   8.330000\n",
              "2020-03-30   8.410000   8.070000   8.240000   8.380000  4493700.0   8.380000\n",
              "2020-03-31   8.290000   7.980000   8.190000   8.090000  3690300.0   8.090000\n",
              "\n",
              "[5093 rows x 6 columns]"
            ]
          },
          "metadata": {
            "tags": []
          },
          "execution_count": 1
        }
      ]
    },
    {
      "cell_type": "code",
      "metadata": {
        "id": "RU7HOtjN0Omy",
        "colab_type": "code",
        "outputId": "0cd9c6d6-76ca-4438-c754-dbacaa7cfda6",
        "colab": {
          "base_uri": "https://localhost:8080/",
          "height": 35
        }
      },
      "source": [
        "dataset.shape"
      ],
      "execution_count": 0,
      "outputs": [
        {
          "output_type": "execute_result",
          "data": {
            "text/plain": [
              "(5093, 6)"
            ]
          },
          "metadata": {
            "tags": []
          },
          "execution_count": 2
        }
      ]
    },
    {
      "cell_type": "code",
      "metadata": {
        "id": "B-OkjvLd0UfM",
        "colab_type": "code",
        "outputId": "55442d5d-6b53-4130-d06a-2da50fa70896",
        "colab": {
          "base_uri": "https://localhost:8080/",
          "height": 518
        }
      },
      "source": [
        "plt.figure(figsize = (12, 8))\n",
        "plt.plot(dataset['Open'])\n",
        "plt.plot(dataset['Close'])\n",
        "plt.plot(dataset['High'])\n",
        "plt.plot(dataset['Low'])\n",
        "plt.xlabel('Date', fontsize = 15)\n",
        "plt.ylabel('Closing Price in USD', fontsize = 15)\n",
        "plt.title('Close Price History')\n",
        "plt.legend(['Open', 'Close', 'High', 'Low'], loc = 'upper left')\n",
        "plt.show()"
      ],
      "execution_count": 0,
      "outputs": [
        {
          "output_type": "display_data",
          "data": {
            "image/png": "[encoded data removed]",
            "text/plain": [
              "<Figure size 864x576 with 1 Axes>"
            ]
          },
          "metadata": {
            "tags": [],
            "needs_background": "light"
          }
        }
      ]
    },
    {
      "cell_type": "code",
      "metadata": {
        "id": "Q6Jk1txQ0X9Z",
        "colab_type": "code",
        "outputId": "be4f9447-59f3-413d-af54-6bfb1859af38",
        "colab": {
          "base_uri": "https://localhost:8080/",
          "height": 35
        }
      },
      "source": [
        "close_price = dataset.filter(['Close']).values\n",
        "data_train_len = math.ceil(len(close_price) * .8)\n",
        "\n",
        "sc = MinMaxScaler(feature_range = (0, 1))\n",
        "sc_data = sc.fit_transform(close_price)\n",
        "\n",
        "data_train = sc_data[0 : data_train_len, : ]\n",
        "xtrain = []\n",
        "ytrain = []\n",
        "for i in range(60, len(data_train)):\n",
        "    xtrain.append(data_train[i - 60 : i, 0])\n",
        "    ytrain.append(data_train[i, 0])\n",
        "\n",
        "xtrain, ytrain = np.array(xtrain), np.array(ytrain)\n",
        "xtrain = np.reshape(xtrain, (xtrain.shape[0], xtrain.shape[1], 1))\n",
        "xtrain.shape"
      ],
      "execution_count": 0,
      "outputs": [
        {
          "output_type": "execute_result",
          "data": {
            "text/plain": [
              "(4015, 60, 1)"
            ]
          },
          "metadata": {
            "tags": []
          },
          "execution_count": 4
        }
      ]
    },
    {
      "cell_type": "code",
      "metadata": {
        "id": "2WEEhh420fbY",
        "colab_type": "code",
        "outputId": "839ec8c7-ac95-4faf-98ab-59b94466cbba",
        "colab": {
          "base_uri": "https://localhost:8080/",
          "height": 1000
        }
      },
      "source": [
        "model = Sequential()\n",
        "model.add(LSTM(units = 512, return_sequences = True, input_shape = (xtrain.shape[1], 1)))\n",
        "model.add(Dropout(0.2))\n",
        "\n",
        "model.add(LSTM(units = 512, return_sequences = True))\n",
        "model.add(Dropout(0.2))\n",
        "\n",
        "model.add(LSTM(units = 512, return_sequences = True))\n",
        "model.add(Dropout(0.2))\n",
        "\n",
        "model.add(LSTM(units = 512, return_sequences = False))\n",
        "model.add(Dropout(0.2))\n",
        "\n",
        "model.add(Dense(units = 25))\n",
        "model.add(Dense(units = 1))\n",
        "\n",
        "model.compile(optimizer = 'nadam', loss = 'mean_squared_error')\n",
        "model.fit(xtrain, ytrain, batch_size = 128, epochs = 150)"
      ],
      "execution_count": 0,
      "outputs": [
        {
          "output_type": "stream",
          "text": [
            "Epoch 1/150\n",
            "32/32 [==============================] - 4s 139ms/step - loss: 0.1086\n",
            "Epoch 2/150\n",
            "32/32 [==============================] - 4s 138ms/step - loss: 0.0129\n",
            "Epoch 3/150\n",
            "32/32 [==============================] - 4s 138ms/step - loss: 0.0025\n",
            "Epoch 4/150\n",
            "32/32 [==============================] - 4s 138ms/step - loss: 0.0022\n",
            "Epoch 5/150\n",
            "32/32 [==============================] - 4s 139ms/step - loss: 0.0021\n",
            "Epoch 6/150\n",
            "32/32 [==============================] - 4s 139ms/step - loss: 0.0023\n",
            "Epoch 7/150\n",
            "32/32 [==============================] - 4s 138ms/step - loss: 0.0021\n",
            "Epoch 8/150\n",
            "32/32 [==============================] - 4s 138ms/step - loss: 0.0018\n",
            "Epoch 9/150\n",
            "32/32 [==============================] - 4s 138ms/step - loss: 0.0021\n",
            "Epoch 10/150\n",
            "32/32 [==============================] - 4s 138ms/step - loss: 0.0012\n",
            "Epoch 11/150\n",
            "32/32 [==============================] - 4s 139ms/step - loss: 0.0027\n",
            "Epoch 12/150\n",
            "32/32 [==============================] - 4s 140ms/step - loss: 0.0012\n",
            "Epoch 13/150\n",
            "32/32 [==============================] - 4s 139ms/step - loss: 0.0013\n",
            "Epoch 14/150\n",
            "32/32 [==============================] - 4s 139ms/step - loss: 0.0012\n",
            "Epoch 15/150\n",
            "32/32 [==============================] - 4s 139ms/step - loss: 0.0013\n",
            "Epoch 16/150\n",
            "32/32 [==============================] - 4s 140ms/step - loss: 0.0015\n",
            "Epoch 17/150\n",
            "32/32 [==============================] - 4s 139ms/step - loss: 9.4621e-04\n",
            "Epoch 18/150\n",
            "32/32 [==============================] - 4s 139ms/step - loss: 0.0011\n",
            "Epoch 19/150\n",
            "32/32 [==============================] - 4s 140ms/step - loss: 0.0015\n",
            "Epoch 20/150\n",
            "32/32 [==============================] - 4s 139ms/step - loss: 0.0012\n",
            "Epoch 21/150\n",
            "32/32 [==============================] - 4s 140ms/step - loss: 0.0012\n",
            "Epoch 22/150\n",
            "32/32 [==============================] - 4s 140ms/step - loss: 0.0010\n",
            "Epoch 23/150\n",
            "32/32 [==============================] - 5s 141ms/step - loss: 8.5303e-04\n",
            "Epoch 24/150\n",
            "32/32 [==============================] - 5s 141ms/step - loss: 8.9943e-04\n",
            "Epoch 25/150\n",
            "32/32 [==============================] - 5s 141ms/step - loss: 8.6743e-04\n",
            "Epoch 26/150\n",
            "32/32 [==============================] - 4s 140ms/step - loss: 0.0013\n",
            "Epoch 27/150\n",
            "32/32 [==============================] - 4s 141ms/step - loss: 9.8692e-04\n",
            "Epoch 28/150\n",
            "32/32 [==============================] - 4s 140ms/step - loss: 9.8166e-04\n",
            "Epoch 29/150\n",
            "32/32 [==============================] - 4s 140ms/step - loss: 9.6044e-04\n",
            "Epoch 30/150\n",
            "32/32 [==============================] - 5s 141ms/step - loss: 0.0011\n",
            "Epoch 31/150\n",
            "32/32 [==============================] - 4s 140ms/step - loss: 8.3212e-04\n",
            "Epoch 32/150\n",
            "32/32 [==============================] - 5s 141ms/step - loss: 7.8215e-04\n",
            "Epoch 33/150\n",
            "32/32 [==============================] - 5s 141ms/step - loss: 8.7189e-04\n",
            "Epoch 34/150\n",
            "32/32 [==============================] - 5s 141ms/step - loss: 9.4497e-04\n",
            "Epoch 35/150\n",
            "32/32 [==============================] - 5s 142ms/step - loss: 7.0450e-04\n",
            "Epoch 36/150\n",
            "32/32 [==============================] - 5s 141ms/step - loss: 7.0511e-04\n",
            "Epoch 37/150\n",
            "32/32 [==============================] - 5s 141ms/step - loss: 0.0012\n",
            "Epoch 38/150\n",
            "32/32 [==============================] - 5s 142ms/step - loss: 7.5250e-04\n",
            "Epoch 39/150\n",
            "32/32 [==============================] - 5s 142ms/step - loss: 7.1257e-04\n",
            "Epoch 40/150\n",
            "32/32 [==============================] - 5s 143ms/step - loss: 7.4868e-04\n",
            "Epoch 41/150\n",
            "32/32 [==============================] - 5s 142ms/step - loss: 6.2939e-04\n",
            "Epoch 42/150\n",
            "32/32 [==============================] - 5s 141ms/step - loss: 7.4326e-04\n",
            "Epoch 43/150\n",
            "32/32 [==============================] - 5s 142ms/step - loss: 0.0011\n",
            "Epoch 44/150\n",
            "32/32 [==============================] - 5s 142ms/step - loss: 6.5205e-04\n",
            "Epoch 45/150\n",
            "32/32 [==============================] - 5s 142ms/step - loss: 5.9186e-04\n",
            "Epoch 46/150\n",
            "32/32 [==============================] - 5s 142ms/step - loss: 6.0950e-04\n",
            "Epoch 47/150\n",
            "32/32 [==============================] - 5s 143ms/step - loss: 7.6463e-04\n",
            "Epoch 48/150\n",
            "32/32 [==============================] - 5s 141ms/step - loss: 6.4840e-04\n",
            "Epoch 49/150\n",
            "32/32 [==============================] - 5s 143ms/step - loss: 6.1855e-04\n",
            "Epoch 50/150\n",
            "32/32 [==============================] - 5s 142ms/step - loss: 5.9250e-04\n",
            "Epoch 51/150\n",
            "32/32 [==============================] - 5s 144ms/step - loss: 6.5868e-04\n",
            "Epoch 52/150\n",
            "32/32 [==============================] - 5s 144ms/step - loss: 6.1320e-04\n",
            "Epoch 53/150\n",
            "32/32 [==============================] - 5s 143ms/step - loss: 7.1542e-04\n",
            "Epoch 54/150\n",
            "32/32 [==============================] - 5s 143ms/step - loss: 6.2764e-04\n",
            "Epoch 55/150\n",
            "32/32 [==============================] - 5s 143ms/step - loss: 6.1842e-04\n",
            "Epoch 56/150\n",
            "32/32 [==============================] - 5s 143ms/step - loss: 6.4753e-04\n",
            "Epoch 57/150\n",
            "32/32 [==============================] - 5s 143ms/step - loss: 6.1707e-04\n",
            "Epoch 58/150\n",
            "32/32 [==============================] - 5s 143ms/step - loss: 6.0592e-04\n",
            "Epoch 59/150\n",
            "32/32 [==============================] - 5s 143ms/step - loss: 6.5657e-04\n",
            "Epoch 60/150\n",
            "32/32 [==============================] - 5s 142ms/step - loss: 5.7020e-04\n",
            "Epoch 61/150\n",
            "32/32 [==============================] - 5s 143ms/step - loss: 7.5599e-04\n",
            "Epoch 62/150\n",
            "32/32 [==============================] - 5s 143ms/step - loss: 6.2038e-04\n",
            "Epoch 63/150\n",
            "32/32 [==============================] - 5s 143ms/step - loss: 5.6429e-04\n",
            "Epoch 64/150\n",
            "32/32 [==============================] - 5s 143ms/step - loss: 5.1336e-04\n",
            "Epoch 65/150\n",
            "32/32 [==============================] - 5s 143ms/step - loss: 4.5837e-04\n",
            "Epoch 66/150\n",
            "32/32 [==============================] - 5s 144ms/step - loss: 5.1626e-04\n",
            "Epoch 67/150\n",
            "32/32 [==============================] - 5s 144ms/step - loss: 4.7483e-04\n",
            "Epoch 68/150\n",
            "32/32 [==============================] - 5s 144ms/step - loss: 5.7587e-04\n",
            "Epoch 69/150\n",
            "32/32 [==============================] - 5s 143ms/step - loss: 4.6878e-04\n",
            "Epoch 70/150\n",
            "32/32 [==============================] - 5s 143ms/step - loss: 4.3155e-04\n",
            "Epoch 71/150\n",
            "32/32 [==============================] - 5s 143ms/step - loss: 6.9097e-04\n",
            "Epoch 72/150\n",
            "32/32 [==============================] - 5s 143ms/step - loss: 5.4025e-04\n",
            "Epoch 73/150\n",
            "32/32 [==============================] - 5s 142ms/step - loss: 4.7594e-04\n",
            "Epoch 74/150\n",
            "32/32 [==============================] - 5s 143ms/step - loss: 4.6291e-04\n",
            "Epoch 75/150\n",
            "32/32 [==============================] - 5s 143ms/step - loss: 6.6973e-04\n",
            "Epoch 76/150\n",
            "32/32 [==============================] - 5s 143ms/step - loss: 4.9949e-04\n",
            "Epoch 77/150\n",
            "32/32 [==============================] - 5s 143ms/step - loss: 4.7275e-04\n",
            "Epoch 78/150\n",
            "32/32 [==============================] - 5s 143ms/step - loss: 4.1668e-04\n",
            "Epoch 79/150\n",
            "32/32 [==============================] - 5s 143ms/step - loss: 4.6059e-04\n",
            "Epoch 80/150\n",
            "32/32 [==============================] - 5s 144ms/step - loss: 5.4206e-04\n",
            "Epoch 81/150\n",
            "32/32 [==============================] - 5s 143ms/step - loss: 4.1186e-04\n",
            "Epoch 82/150\n",
            "32/32 [==============================] - 5s 143ms/step - loss: 4.9944e-04\n",
            "Epoch 83/150\n",
            "32/32 [==============================] - 5s 143ms/step - loss: 4.0039e-04\n",
            "Epoch 84/150\n",
            "32/32 [==============================] - 5s 143ms/step - loss: 5.7182e-04\n",
            "Epoch 85/150\n",
            "32/32 [==============================] - 5s 142ms/step - loss: 4.9803e-04\n",
            "Epoch 86/150\n",
            "32/32 [==============================] - 5s 143ms/step - loss: 5.0672e-04\n",
            "Epoch 87/150\n",
            "32/32 [==============================] - 5s 142ms/step - loss: 3.7735e-04\n",
            "Epoch 88/150\n",
            "32/32 [==============================] - 5s 143ms/step - loss: 5.5363e-04\n",
            "Epoch 89/150\n",
            "32/32 [==============================] - 5s 144ms/step - loss: 3.7743e-04\n",
            "Epoch 90/150\n",
            "32/32 [==============================] - 5s 144ms/step - loss: 3.9077e-04\n",
            "Epoch 91/150\n",
            "32/32 [==============================] - 5s 143ms/step - loss: 5.0789e-04\n",
            "Epoch 92/150\n",
            "32/32 [==============================] - 5s 142ms/step - loss: 4.5125e-04\n",
            "Epoch 93/150\n",
            "32/32 [==============================] - 5s 143ms/step - loss: 5.1579e-04\n",
            "Epoch 94/150\n",
            "32/32 [==============================] - 5s 144ms/step - loss: 3.7651e-04\n",
            "Epoch 95/150\n",
            "32/32 [==============================] - 5s 143ms/step - loss: 5.1323e-04\n",
            "Epoch 96/150\n",
            "32/32 [==============================] - 5s 144ms/step - loss: 4.8158e-04\n",
            "Epoch 97/150\n",
            "32/32 [==============================] - 5s 143ms/step - loss: 3.8979e-04\n",
            "Epoch 98/150\n",
            "32/32 [==============================] - 5s 143ms/step - loss: 4.2131e-04\n",
            "Epoch 99/150\n",
            "32/32 [==============================] - 5s 143ms/step - loss: 3.6826e-04\n",
            "Epoch 100/150\n",
            "32/32 [==============================] - 5s 143ms/step - loss: 4.6695e-04\n",
            "Epoch 101/150\n",
            "32/32 [==============================] - 5s 143ms/step - loss: 4.3894e-04\n",
            "Epoch 102/150\n",
            "32/32 [==============================] - 5s 143ms/step - loss: 3.5257e-04\n",
            "Epoch 103/150\n",
            "32/32 [==============================] - 5s 143ms/step - loss: 4.3224e-04\n",
            "Epoch 104/150\n",
            "32/32 [==============================] - 5s 142ms/step - loss: 4.3734e-04\n",
            "Epoch 105/150\n",
            "32/32 [==============================] - 5s 142ms/step - loss: 3.2802e-04\n",
            "Epoch 106/150\n",
            "32/32 [==============================] - 5s 144ms/step - loss: 5.2441e-04\n",
            "Epoch 107/150\n",
            "32/32 [==============================] - 5s 144ms/step - loss: 3.8141e-04\n",
            "Epoch 108/150\n",
            "32/32 [==============================] - 5s 143ms/step - loss: 4.0847e-04\n",
            "Epoch 109/150\n",
            "32/32 [==============================] - 5s 143ms/step - loss: 3.5143e-04\n",
            "Epoch 110/150\n",
            "32/32 [==============================] - 5s 144ms/step - loss: 3.9643e-04\n",
            "Epoch 111/150\n",
            "32/32 [==============================] - 5s 143ms/step - loss: 4.6610e-04\n",
            "Epoch 112/150\n",
            "32/32 [==============================] - 5s 145ms/step - loss: 5.6929e-04\n",
            "Epoch 113/150\n",
            "32/32 [==============================] - 5s 143ms/step - loss: 3.4885e-04\n",
            "Epoch 114/150\n",
            "32/32 [==============================] - 5s 143ms/step - loss: 4.2991e-04\n",
            "Epoch 115/150\n",
            "32/32 [==============================] - 5s 143ms/step - loss: 3.3442e-04\n",
            "Epoch 116/150\n",
            "32/32 [==============================] - 5s 143ms/step - loss: 3.5192e-04\n",
            "Epoch 117/150\n",
            "32/32 [==============================] - 5s 143ms/step - loss: 3.9878e-04\n",
            "Epoch 118/150\n",
            "32/32 [==============================] - 5s 143ms/step - loss: 4.4122e-04\n",
            "Epoch 119/150\n",
            "32/32 [==============================] - 5s 143ms/step - loss: 3.4601e-04\n",
            "Epoch 120/150\n",
            "32/32 [==============================] - 5s 143ms/step - loss: 4.2783e-04\n",
            "Epoch 121/150\n",
            "32/32 [==============================] - 5s 144ms/step - loss: 4.0759e-04\n",
            "Epoch 122/150\n",
            "32/32 [==============================] - 5s 143ms/step - loss: 3.3590e-04\n",
            "Epoch 123/150\n",
            "32/32 [==============================] - 5s 143ms/step - loss: 3.4164e-04\n",
            "Epoch 124/150\n",
            "32/32 [==============================] - 5s 143ms/step - loss: 3.8331e-04\n",
            "Epoch 125/150\n",
            "32/32 [==============================] - 5s 143ms/step - loss: 4.8724e-04\n",
            "Epoch 126/150\n",
            "32/32 [==============================] - 5s 143ms/step - loss: 3.8933e-04\n",
            "Epoch 127/150\n",
            "32/32 [==============================] - 5s 143ms/step - loss: 3.0784e-04\n",
            "Epoch 128/150\n",
            "32/32 [==============================] - 5s 144ms/step - loss: 4.3625e-04\n",
            "Epoch 129/150\n",
            "32/32 [==============================] - 5s 143ms/step - loss: 4.9154e-04\n",
            "Epoch 130/150\n",
            "32/32 [==============================] - 5s 144ms/step - loss: 3.5620e-04\n",
            "Epoch 131/150\n",
            "32/32 [==============================] - 5s 144ms/step - loss: 3.6495e-04\n",
            "Epoch 132/150\n",
            "32/32 [==============================] - 5s 144ms/step - loss: 3.5034e-04\n",
            "Epoch 133/150\n",
            "32/32 [==============================] - 5s 144ms/step - loss: 4.3815e-04\n",
            "Epoch 134/150\n",
            "32/32 [==============================] - 5s 144ms/step - loss: 3.0925e-04\n",
            "Epoch 135/150\n",
            "32/32 [==============================] - 5s 143ms/step - loss: 4.3178e-04\n",
            "Epoch 136/150\n",
            "32/32 [==============================] - 5s 144ms/step - loss: 4.0875e-04\n",
            "Epoch 137/150\n",
            "32/32 [==============================] - 5s 144ms/step - loss: 4.6701e-04\n",
            "Epoch 138/150\n",
            "32/32 [==============================] - 5s 143ms/step - loss: 4.0096e-04\n",
            "Epoch 139/150\n",
            "32/32 [==============================] - 5s 143ms/step - loss: 4.1746e-04\n",
            "Epoch 140/150\n",
            "32/32 [==============================] - 5s 143ms/step - loss: 3.3276e-04\n",
            "Epoch 141/150\n",
            "32/32 [==============================] - 5s 144ms/step - loss: 3.6742e-04\n",
            "Epoch 142/150\n",
            "32/32 [==============================] - 5s 143ms/step - loss: 4.2412e-04\n",
            "Epoch 143/150\n",
            "32/32 [==============================] - 5s 144ms/step - loss: 4.2040e-04\n",
            "Epoch 144/150\n",
            "32/32 [==============================] - 5s 143ms/step - loss: 3.7122e-04\n",
            "Epoch 145/150\n",
            "32/32 [==============================] - 5s 143ms/step - loss: 4.0950e-04\n",
            "Epoch 146/150\n",
            "32/32 [==============================] - 5s 143ms/step - loss: 4.5506e-04\n",
            "Epoch 147/150\n",
            "32/32 [==============================] - 5s 143ms/step - loss: 3.8461e-04\n",
            "Epoch 148/150\n",
            "32/32 [==============================] - 5s 143ms/step - loss: 4.1108e-04\n",
            "Epoch 149/150\n",
            "32/32 [==============================] - 5s 143ms/step - loss: 4.0447e-04\n",
            "Epoch 150/150\n",
            "32/32 [==============================] - 5s 143ms/step - loss: 5.3448e-04\n"
          ],
          "name": "stdout"
        },
        {
          "output_type": "execute_result",
          "data": {
            "text/plain": [
              "<tensorflow.python.keras.callbacks.History at 0x7f790c4b75c0>"
            ]
          },
          "metadata": {
            "tags": []
          },
          "execution_count": 5
        }
      ]
    },
    {
      "cell_type": "code",
      "metadata": {
        "id": "px_fJv7807gq",
        "colab_type": "code",
        "colab": {}
      },
      "source": [
        "data_test = sc_data[data_train_len - 60 : , :]\n",
        "xtest = []\n",
        "ytest = close_price[data_train_len :, :]\n",
        "for i in range(60, len(data_test)):\n",
        "    xtest.append(data_test[i - 60 : i, 0])\n",
        "\n",
        "xtest = np.array(xtest)\n",
        "xtest = np.reshape(xtest, (xtest.shape[0], xtest.shape[1], 1))"
      ],
      "execution_count": 0,
      "outputs": []
    },
    {
      "cell_type": "code",
      "metadata": {
        "id": "a1tvBM1n1Exg",
        "colab_type": "code",
        "outputId": "ca6353ad-2440-4861-d7e0-6623e9c4cc3d",
        "colab": {
          "base_uri": "https://localhost:8080/",
          "height": 35
        }
      },
      "source": [
        "close_price_pred = model.predict(xtest)\n",
        "close_price_pred = sc.inverse_transform(close_price_pred)\n",
        "rmse_score = np.sqrt(np.mean(((close_price_pred - ytest) ** 2)))\n",
        "rmse_score"
      ],
      "execution_count": 0,
      "outputs": [
        {
          "output_type": "execute_result",
          "data": {
            "text/plain": [
              "0.3861981548870023"
            ]
          },
          "metadata": {
            "tags": []
          },
          "execution_count": 216
        }
      ]
    },
    {
      "cell_type": "code",
      "metadata": {
        "id": "PdDTfQnj1IdB",
        "colab_type": "code",
        "outputId": "fbe4271d-3459-4e5c-ab9e-6da6294e6041",
        "colab": {
          "base_uri": "https://localhost:8080/",
          "height": 518
        }
      },
      "source": [
        "train = dataset.filter(['Close'])[: data_train_len]\n",
        "valid = dataset.filter(['Close'])[data_train_len :]\n",
        "valid['Predictions'] = close_price_pred\n",
        "\n",
        "plt.figure(figsize = (12, 8))\n",
        "plt.plot(train['Close'])\n",
        "plt.plot(valid[['Close', 'Predictions']])\n",
        "plt.xlabel('Date', fontsize = 15)\n",
        "plt.ylabel('Closing Price in USD')\n",
        "plt.legend(['Train', 'Val', 'Predictions'], loc = 'lower right')\n",
        "plt.title('Model')\n",
        "plt.show()"
      ],
      "execution_count": 0,
      "outputs": [
        {
          "output_type": "display_data",
          "data": {
            "image/png": "[encoded data removed]",
            "text/plain": [
              "<Figure size 864x576 with 1 Axes>"
            ]
          },
          "metadata": {
            "tags": []
          }
        }
      ]
    },
    {
      "cell_type": "code",
      "metadata": {
        "id": "RTdFJ4oH1Us6",
        "colab_type": "code",
        "outputId": "13badaf6-17c4-4c49-e2a8-eb78a2b75608",
        "colab": {
          "base_uri": "https://localhost:8080/",
          "height": 447
        }
      },
      "source": [
        "valid"
      ],
      "execution_count": 0,
      "outputs": [
        {
          "output_type": "execute_result",
          "data": {
            "text/html": [
              "<div>\n",
              "<style scoped>\n",
              "    .dataframe tbody tr th:only-of-type {\n",
              "        vertical-align: middle;\n",
              "    }\n",
              "\n",
              "    .dataframe tbody tr th {\n",
              "        vertical-align: top;\n",
              "    }\n",
              "\n",
              "    .dataframe thead th {\n",
              "        text-align: right;\n",
              "    }\n",
              "</style>\n",
              "<table border=\"1\" class=\"dataframe\">\n",
              "  <thead>\n",
              "    <tr style=\"text-align: right;\">\n",
              "      <th></th>\n",
              "      <th>Close</th>\n",
              "      <th>Predictions</th>\n",
              "    </tr>\n",
              "    <tr>\n",
              "      <th>Date</th>\n",
              "      <th></th>\n",
              "      <th></th>\n",
              "    </tr>\n",
              "  </thead>\n",
              "  <tbody>\n",
              "    <tr>\n",
              "      <th>2016-03-16</th>\n",
              "      <td>14.64</td>\n",
              "      <td>15.195143</td>\n",
              "    </tr>\n",
              "    <tr>\n",
              "      <th>2016-03-17</th>\n",
              "      <td>14.78</td>\n",
              "      <td>14.591522</td>\n",
              "    </tr>\n",
              "    <tr>\n",
              "      <th>2016-03-18</th>\n",
              "      <td>15.12</td>\n",
              "      <td>14.506388</td>\n",
              "    </tr>\n",
              "    <tr>\n",
              "      <th>2016-03-21</th>\n",
              "      <td>15.04</td>\n",
              "      <td>14.771596</td>\n",
              "    </tr>\n",
              "    <tr>\n",
              "      <th>2016-03-22</th>\n",
              "      <td>14.75</td>\n",
              "      <td>14.816252</td>\n",
              "    </tr>\n",
              "    <tr>\n",
              "      <th>...</th>\n",
              "      <td>...</td>\n",
              "      <td>...</td>\n",
              "    </tr>\n",
              "    <tr>\n",
              "      <th>2020-03-25</th>\n",
              "      <td>8.26</td>\n",
              "      <td>7.197859</td>\n",
              "    </tr>\n",
              "    <tr>\n",
              "      <th>2020-03-26</th>\n",
              "      <td>8.89</td>\n",
              "      <td>7.772642</td>\n",
              "    </tr>\n",
              "    <tr>\n",
              "      <th>2020-03-27</th>\n",
              "      <td>8.33</td>\n",
              "      <td>8.376019</td>\n",
              "    </tr>\n",
              "    <tr>\n",
              "      <th>2020-03-30</th>\n",
              "      <td>8.38</td>\n",
              "      <td>8.139010</td>\n",
              "    </tr>\n",
              "    <tr>\n",
              "      <th>2020-03-31</th>\n",
              "      <td>8.09</td>\n",
              "      <td>8.039848</td>\n",
              "    </tr>\n",
              "  </tbody>\n",
              "</table>\n",
              "<p>1018 rows × 2 columns</p>\n",
              "</div>"
            ],
            "text/plain": [
              "            Close  Predictions\n",
              "Date                          \n",
              "2016-03-16  14.64    15.195143\n",
              "2016-03-17  14.78    14.591522\n",
              "2016-03-18  15.12    14.506388\n",
              "2016-03-21  15.04    14.771596\n",
              "2016-03-22  14.75    14.816252\n",
              "...           ...          ...\n",
              "2020-03-25   8.26     7.197859\n",
              "2020-03-26   8.89     7.772642\n",
              "2020-03-27   8.33     8.376019\n",
              "2020-03-30   8.38     8.139010\n",
              "2020-03-31   8.09     8.039848\n",
              "\n",
              "[1018 rows x 2 columns]"
            ]
          },
          "metadata": {
            "tags": []
          },
          "execution_count": 218
        }
      ]
    },
    {
      "cell_type": "code",
      "metadata": {
        "id": "X-GQnqxv1aas",
        "colab_type": "code",
        "outputId": "6064c982-4fd0-44f3-ec31-c5a0863bc338",
        "colab": {
          "base_uri": "https://localhost:8080/",
          "height": 35
        }
      },
      "source": [
        "cs_stock_price = web.DataReader('CS', data_source = 'yahoo', start = '2000-01-01', end = '2020-03-31')\n",
        "new_dataset = cs_stock_price.filter(['Close'])\n",
        "last_60_days = new_dataset[-60 :].values\n",
        "last_60_days_sc = sc.transform(last_60_days)\n",
        "xtest1 = []\n",
        "xtest1.append(last_60_days_sc)\n",
        "xtest1 = np.array(xtest1)\n",
        "xtest1 = np.reshape(xtest1, (xtest1.shape[0], xtest1.shape[1], 1))\n",
        "pred_price = model.predict(xtest1)\n",
        "pred_price = sc.inverse_transform(pred_price)\n",
        "print(pred_price)"
      ],
      "execution_count": 0,
      "outputs": [
        {
          "output_type": "stream",
          "text": [
            "[[8.132435]]\n"
          ],
          "name": "stdout"
        }
      ]
    },
    {
      "cell_type": "code",
      "metadata": {
        "id": "Lh9JpX5O1emg",
        "colab_type": "code",
        "outputId": "b7077d58-1835-447e-e52e-235d61cd8be6",
        "colab": {
          "base_uri": "https://localhost:8080/",
          "height": 205
        }
      },
      "source": [
        "cs_stock_2 = web.DataReader('CS', data_source = 'yahoo', start = '2020-04-01', end = '2020-04-02')\n",
        "print(apple_stock_2['Close'])"
      ],
      "execution_count": 0,
      "outputs": [
        {
          "output_type": "error",
          "ename": "NameError",
          "evalue": "ignored",
          "traceback": [
            "\u001b[0;31m---------------------------------------------------------------------------\u001b[0m",
            "\u001b[0;31mNameError\u001b[0m                                 Traceback (most recent call last)",
            "\u001b[0;32m<ipython-input-8-40aa6b4a13d9>\u001b[0m in \u001b[0;36m<module>\u001b[0;34m()\u001b[0m\n\u001b[1;32m      1\u001b[0m \u001b[0mcs_stock_2\u001b[0m \u001b[0;34m=\u001b[0m \u001b[0mweb\u001b[0m\u001b[0;34m.\u001b[0m\u001b[0mDataReader\u001b[0m\u001b[0;34m(\u001b[0m\u001b[0;34m'CS'\u001b[0m\u001b[0;34m,\u001b[0m \u001b[0mdata_source\u001b[0m \u001b[0;34m=\u001b[0m \u001b[0;34m'yahoo'\u001b[0m\u001b[0;34m,\u001b[0m \u001b[0mstart\u001b[0m \u001b[0;34m=\u001b[0m \u001b[0;34m'2020-04-01'\u001b[0m\u001b[0;34m,\u001b[0m \u001b[0mend\u001b[0m \u001b[0;34m=\u001b[0m \u001b[0;34m'2020-04-02'\u001b[0m\u001b[0;34m)\u001b[0m\u001b[0;34m\u001b[0m\u001b[0;34m\u001b[0m\u001b[0m\n\u001b[0;32m----> 2\u001b[0;31m \u001b[0mprint\u001b[0m\u001b[0;34m(\u001b[0m\u001b[0mapple_stock_2\u001b[0m\u001b[0;34m[\u001b[0m\u001b[0;34m'Close'\u001b[0m\u001b[0;34m]\u001b[0m\u001b[0;34m)\u001b[0m\u001b[0;34m\u001b[0m\u001b[0;34m\u001b[0m\u001b[0m\n\u001b[0m",
            "\u001b[0;31mNameError\u001b[0m: name 'apple_stock_2' is not defined"
          ]
        }
      ]
    },
    {
      "cell_type": "markdown",
      "metadata": {
        "id": "BT8vPQi04amR",
        "colab_type": "text"
      },
      "source": [
        ""
      ]
    }
  ]
}